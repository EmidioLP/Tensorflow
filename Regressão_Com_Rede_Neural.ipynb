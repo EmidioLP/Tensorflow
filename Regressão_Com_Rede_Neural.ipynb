{
  "nbformat": 4,
  "nbformat_minor": 0,
  "metadata": {
    "colab": {
      "name": "Regressão_Com_Rede_Neural.ipynb",
      "provenance": [],
      "mount_file_id": "13d3I77KAD7CuF7FgImUMXB8fdsX1vvWR",
      "authorship_tag": "ABX9TyM/5fQNLy/Zpm93ZqfvEgf7"
    },
    "kernelspec": {
      "name": "python3",
      "display_name": "Python 3"
    },
    "language_info": {
      "name": "python"
    }
  },
  "cells": [
    {
      "cell_type": "markdown",
      "metadata": {
        "id": "QTzwh_3ttBHx"
      },
      "source": [
        "# Introdução a regressão com redes neurais no TensorFlow\n",
        "\n",
        "  Existem muita definições para um problema de regressão, mas no nosso caso, nós vamos simplificar em: predizendo um número variável baseado em alguma outra combinação de variáveis. Predizer um número."
      ]
    },
    {
      "cell_type": "code",
      "metadata": {
        "colab": {
          "base_uri": "https://localhost:8080/"
        },
        "id": "MzSGmnsNuOOb",
        "outputId": "e691107c-d9cd-4735-f76a-74aea5d86e8c"
      },
      "source": [
        "# Importando o tensorflow\n",
        "import tensorflow as tf\n",
        "print(tf.__version__)"
      ],
      "execution_count": null,
      "outputs": [
        {
          "output_type": "stream",
          "text": [
            "2.5.0\n"
          ],
          "name": "stdout"
        }
      ]
    },
    {
      "cell_type": "markdown",
      "metadata": {
        "id": "JhmVqseYuu41"
      },
      "source": [
        "### Criando dados para visualizar e formar "
      ]
    },
    {
      "cell_type": "code",
      "metadata": {
        "colab": {
          "base_uri": "https://localhost:8080/",
          "height": 269
        },
        "id": "6QRnf5_3u3LM",
        "outputId": "5a8a8332-5706-49a1-e329-a1b7bde9c78e"
      },
      "source": [
        "import numpy as np\n",
        "import matplotlib.pyplot as plt\n",
        "\n",
        "# Criando recursos\n",
        "X = np.array([-7.0, -4.0, -1.0, 2.0, 5.0, 8.0, 11.0, 14.0])\n",
        "\n",
        "# Criando as labels\n",
        "y = np.array([3.0, 6.0, 9.0, 12.0, 15.0, 18.0, 21.0, 24.0])\n",
        "\n",
        "# Visualizar os dados criados\n",
        "plt.scatter(X,y);"
      ],
      "execution_count": null,
      "outputs": [
        {
          "output_type": "display_data",
          "data": {
            "image/png": "[encoded data removed]",
            "text/plain": [
              "<Figure size 432x288 with 1 Axes>"
            ]
          },
          "metadata": {
            "tags": [],
            "needs_background": "light"
          }
        }
      ]
    },
    {
      "cell_type": "code",
      "metadata": {
        "colab": {
          "base_uri": "https://localhost:8080/"
        },
        "id": "IsxGnOmDxXtp",
        "outputId": "447ced67-9d4a-4103-bb31-344dcc7c837d"
      },
      "source": [
        "y == X + 10"
      ],
      "execution_count": null,
      "outputs": [
        {
          "output_type": "execute_result",
          "data": {
            "text/plain": [
              "array([ True,  True,  True,  True,  True,  True,  True,  True])"
            ]
          },
          "metadata": {
            "tags": []
          },
          "execution_count": 3
        }
      ]
    },
    {
      "cell_type": "markdown",
      "metadata": {
        "id": "4jMA4AHax2nA"
      },
      "source": [
        "### Tamanhos da entrada e da saida"
      ]
    },
    {
      "cell_type": "code",
      "metadata": {
        "colab": {
          "base_uri": "https://localhost:8080/"
        },
        "id": "ONn8OXT3x8f2",
        "outputId": "a256f096-dcb3-4f05-9600-79d27e265533"
      },
      "source": [
        "# Criar um tensor de demonstração para um problema de predição hipotético\n",
        "house_info = tf.constant([\"bedroom\", \"bathroom\", \"garage\"])\n",
        "house_price = tf.constant([92900])\n",
        "house_info.shape, house_price.shape"
      ],
      "execution_count": null,
      "outputs": [
        {
          "output_type": "execute_result",
          "data": {
            "text/plain": [
              "(TensorShape([3]), TensorShape([1]))"
            ]
          },
          "metadata": {
            "tags": []
          },
          "execution_count": 4
        }
      ]
    },
    {
      "cell_type": "code",
      "metadata": {
        "colab": {
          "base_uri": "https://localhost:8080/"
        },
        "id": "PmhB6qtEymtN",
        "outputId": "a874534a-ed6f-4e8d-d6a2-ea9bef34b22e"
      },
      "source": [
        "X.shape, y.shape"
      ],
      "execution_count": null,
      "outputs": [
        {
          "output_type": "execute_result",
          "data": {
            "text/plain": [
              "((8,), (8,))"
            ]
          },
          "metadata": {
            "tags": []
          },
          "execution_count": 5
        }
      ]
    },
    {
      "cell_type": "code",
      "metadata": {
        "colab": {
          "base_uri": "https://localhost:8080/"
        },
        "id": "fC6ARx4HyzeF",
        "outputId": "1350a549-97ff-45ba-f471-997ec8b8f088"
      },
      "source": [
        "# Utilizamos o valor de X para predizer qual seria o valor de y\n",
        "X[0], y[0] "
      ],
      "execution_count": null,
      "outputs": [
        {
          "output_type": "execute_result",
          "data": {
            "text/plain": [
              "(-7.0, 3.0)"
            ]
          },
          "metadata": {
            "tags": []
          },
          "execution_count": 6
        }
      ]
    },
    {
      "cell_type": "code",
      "metadata": {
        "colab": {
          "base_uri": "https://localhost:8080/"
        },
        "id": "6y0LqfCyy1lp",
        "outputId": "56e0ea00-b2fb-479c-9b8a-2ac94b678d3a"
      },
      "source": [
        "X[1], y[1]"
      ],
      "execution_count": null,
      "outputs": [
        {
          "output_type": "execute_result",
          "data": {
            "text/plain": [
              "(-4.0, 6.0)"
            ]
          },
          "metadata": {
            "tags": []
          },
          "execution_count": 7
        }
      ]
    },
    {
      "cell_type": "code",
      "metadata": {
        "colab": {
          "base_uri": "https://localhost:8080/"
        },
        "id": "XxE3zGin68Yn",
        "outputId": "159ad245-2c3b-4102-c28a-fb20597f2a9a"
      },
      "source": [
        "# Transformar um array NumPy em tensores\n",
        "X = tf.constant (X)\n",
        "y = tf.constant (y)\n",
        "X,y\n",
        "\n",
        "# Colocando-os do tipo float32 para não dar nenhum tipo de erro com o modelo, já que por padrão, ele utiliza o tamanho float32\n",
        "X = tf.cast(tf.constant(X), dtype=tf.float32)\n",
        "y = tf.cast(tf.constant(y), dtype=tf.float32)\n",
        "X,y"
      ],
      "execution_count": null,
      "outputs": [
        {
          "output_type": "execute_result",
          "data": {
            "text/plain": [
              "(<tf.Tensor: shape=(8,), dtype=float32, numpy=array([-7., -4., -1.,  2.,  5.,  8., 11., 14.], dtype=float32)>,\n",
              " <tf.Tensor: shape=(8,), dtype=float32, numpy=array([ 3.,  6.,  9., 12., 15., 18., 21., 24.], dtype=float32)>)"
            ]
          },
          "metadata": {
            "tags": []
          },
          "execution_count": 8
        }
      ]
    },
    {
      "cell_type": "code",
      "metadata": {
        "colab": {
          "base_uri": "https://localhost:8080/",
          "height": 286
        },
        "id": "BFkfgxnx7XL-",
        "outputId": "6fe4335d-3d92-47bf-f3ef-a541720979a9"
      },
      "source": [
        "plt.scatter(X,y)"
      ],
      "execution_count": null,
      "outputs": [
        {
          "output_type": "execute_result",
          "data": {
            "text/plain": [
              "<matplotlib.collections.PathCollection at 0x7fb9e988c410>"
            ]
          },
          "metadata": {
            "tags": []
          },
          "execution_count": 9
        },
        {
          "output_type": "display_data",
          "data": {
            "image/png": "[encoded data removed]",
            "text/plain": [
              "<Figure size 432x288 with 1 Axes>"
            ]
          },
          "metadata": {
            "tags": [],
            "needs_background": "light"
          }
        }
      ]
    },
    {
      "cell_type": "markdown",
      "metadata": {
        "id": "75jA1V6P7dmB"
      },
      "source": [
        "## Etapas na modelagem com Tensorflow\n",
        "\n",
        "1. **Criar um modelo** - Definir as camadas de entrada e saida, assim como as camadas escondidas do modelo de deep learning. \n",
        "2. **Compilar nosso modelo** - Definir a função de perda (em outras palavras, a função que fala para o nosso modelo o quão errado ele está) e o otimizador (diz a nosso modelo como melhorar os padrões que ele está aprendendo) e os metódos de avaliação (o que podemos fazer para interpretar os resultados do nosso modelo).\n",
        "3. **Preencher o modelo** - Deixar o modelo tentar achar padrões entre X & y (ou, recursos e labels).\n",
        "4. **Validar nosso modelo** - Comparar os resultados obtidos com os resultados esperados para avaliar o quão certo está nosso modelo.\n",
        "\n",
        "* **Loss:** O quão errado as predições do seu modelo estão em comparação com as predições corretas.\n",
        "* **Optimizer:** Como o seu modelo irá melhorar seus padrões internos para melhorar suas predições.\n",
        "* **Metrics:** Valores interpretáveis por humanos para o quão bom seu modelo está sendo.\n",
        "* **Epochs:** Por quantas vezes o modelo vai refazer os treinos."
      ]
    },
    {
      "cell_type": "code",
      "metadata": {
        "colab": {
          "base_uri": "https://localhost:8080/"
        },
        "id": "D7mFlQER7yys",
        "outputId": "1921f8ef-2a2b-4395-d852-83f02c898001"
      },
      "source": [
        "# Setando a random seed\n",
        "tf.random.set_seed(42)\n",
        "\n",
        "# 1. Criando um modelo usando a API Sequencial\n",
        "model = tf.keras.Sequential([\n",
        "  tf.keras.layers.Dense(1)  #Dense é o mesmo que uma \"camada totalmente conectada\"\n",
        "])\n",
        "\n",
        "# 2. Compilar o modelo\n",
        "model.compile(loss=tf.keras.losses.mae, #mae significa mean absolute error (erro médio absoluto) (pesquisar google)\n",
        "              optimizer=tf.keras.optimizers.SGD(),#sgd significa stochastic gradient descent (google)\n",
        "              metrics=[\"mae\"])\n",
        "\n",
        "# 3. Preencher o modelo\n",
        "model.fit (X, y, epochs=5)"
      ],
      "execution_count": null,
      "outputs": [
        {
          "output_type": "stream",
          "text": [
            "Epoch 1/5\n",
            "1/1 [==============================] - 1s 590ms/step - loss: 11.5048 - mae: 11.5048\n",
            "Epoch 2/5\n",
            "1/1 [==============================] - 0s 19ms/step - loss: 11.3723 - mae: 11.3723\n",
            "Epoch 3/5\n",
            "1/1 [==============================] - 0s 7ms/step - loss: 11.2398 - mae: 11.2398\n",
            "Epoch 4/5\n",
            "1/1 [==============================] - 0s 5ms/step - loss: 11.1073 - mae: 11.1073\n",
            "Epoch 5/5\n",
            "1/1 [==============================] - 0s 4ms/step - loss: 10.9748 - mae: 10.9748\n"
          ],
          "name": "stdout"
        },
        {
          "output_type": "execute_result",
          "data": {
            "text/plain": [
              "<tensorflow.python.keras.callbacks.History at 0x7fb9a259bcd0>"
            ]
          },
          "metadata": {
            "tags": []
          },
          "execution_count": 10
        }
      ]
    },
    {
      "cell_type": "code",
      "metadata": {
        "colab": {
          "base_uri": "https://localhost:8080/"
        },
        "id": "fMOJp9qXAgAH",
        "outputId": "d143bcc9-1c98-4a76-fe86-f53dd733d8d1"
      },
      "source": [
        "# Checando X e y\n",
        "X, y"
      ],
      "execution_count": null,
      "outputs": [
        {
          "output_type": "execute_result",
          "data": {
            "text/plain": [
              "(<tf.Tensor: shape=(8,), dtype=float32, numpy=array([-7., -4., -1.,  2.,  5.,  8., 11., 14.], dtype=float32)>,\n",
              " <tf.Tensor: shape=(8,), dtype=float32, numpy=array([ 3.,  6.,  9., 12., 15., 18., 21., 24.], dtype=float32)>)"
            ]
          },
          "metadata": {
            "tags": []
          },
          "execution_count": 11
        }
      ]
    },
    {
      "cell_type": "code",
      "metadata": {
        "colab": {
          "base_uri": "https://localhost:8080/"
        },
        "id": "qKGOYUdLAjzR",
        "outputId": "3f6728d1-0f71-4a48-820c-87e60cb8ff17"
      },
      "source": [
        "# Fazendo uma predição usando nosso modelo\n",
        "y_pred = model.predict ([17.0])\n",
        "y_pred"
      ],
      "execution_count": null,
      "outputs": [
        {
          "output_type": "execute_result",
          "data": {
            "text/plain": [
              "array([[12.716021]], dtype=float32)"
            ]
          },
          "metadata": {
            "tags": []
          },
          "execution_count": 12
        }
      ]
    },
    {
      "cell_type": "code",
      "metadata": {
        "colab": {
          "base_uri": "https://localhost:8080/"
        },
        "id": "nzwOfHP3BQHr",
        "outputId": "3a1dbc82-081c-4875-97ff-2aa34ececc1c"
      },
      "source": [
        "y_pred + 11"
      ],
      "execution_count": null,
      "outputs": [
        {
          "output_type": "execute_result",
          "data": {
            "text/plain": [
              "array([[23.71602]], dtype=float32)"
            ]
          },
          "metadata": {
            "tags": []
          },
          "execution_count": 13
        }
      ]
    },
    {
      "cell_type": "markdown",
      "metadata": {
        "id": "b17yUfw2BihX"
      },
      "source": [
        "## Melhorar nosso modelo\n",
        "\n",
        "Podemos melhorar nosso modelo, ao alterar os passos que usamos para criar o modelo.\n",
        "\n",
        "1. **Criar um modelo** - Aqui podemos adicionar mais camadas, aumentar o número de unidades escondidas (ou neurônios) dentro de cada uma dessas camadas escondidas, mudar a função de ativação de cada camada. \n",
        "2. **Compilar o modelo** - Aqui podemos mudar a função de otimização, a **taxa de aprendizagem** da função de otimização.\n",
        "3. **Preenchendo o modelo** - Podemos preencher o modelo com mais epochs, ou seja, treinar por mais tempo. Dar mais exemplos para qual o nosso modelo pode aprender."
      ]
    },
    {
      "cell_type": "code",
      "metadata": {
        "colab": {
          "base_uri": "https://localhost:8080/"
        },
        "id": "rCORvpplBpVG",
        "outputId": "29364be6-5806-4b37-d59e-24451fd305fb"
      },
      "source": [
        "# Recriando nosso modelo\n",
        "\n",
        "# 1. Criando o modelo\n",
        "model = tf.keras.Sequential([\n",
        "  tf.keras.layers.Dense(1)\n",
        "])\n",
        "\n",
        "# 2. Compilar o modelo\n",
        "model.compile(loss=tf.keras.losses.mae,\n",
        "              optimizer=tf.keras.optimizers.SGD(),\n",
        "              metrics=[\"mae\"])\n",
        "\n",
        "# 3. Preencher o modelo (dessa vez, vamos treinar por mais tempo)\n",
        "model.fit(X, y, epochs=100)"
      ],
      "execution_count": null,
      "outputs": [
        {
          "output_type": "stream",
          "text": [
            "Epoch 1/100\n",
            "1/1 [==============================] - 0s 266ms/step - loss: 11.2219 - mae: 11.2219\n",
            "Epoch 2/100\n",
            "1/1 [==============================] - 0s 6ms/step - loss: 11.0894 - mae: 11.0894\n",
            "Epoch 3/100\n",
            "1/1 [==============================] - 0s 8ms/step - loss: 10.9569 - mae: 10.9569\n",
            "Epoch 4/100\n",
            "1/1 [==============================] - 0s 4ms/step - loss: 10.8244 - mae: 10.8244\n",
            "Epoch 5/100\n",
            "1/1 [==============================] - 0s 6ms/step - loss: 10.6919 - mae: 10.6919\n",
            "Epoch 6/100\n",
            "1/1 [==============================] - 0s 6ms/step - loss: 10.5594 - mae: 10.5594\n",
            "Epoch 7/100\n",
            "1/1 [==============================] - 0s 4ms/step - loss: 10.4269 - mae: 10.4269\n",
            "Epoch 8/100\n",
            "1/1 [==============================] - 0s 5ms/step - loss: 10.2944 - mae: 10.2944\n",
            "Epoch 9/100\n",
            "1/1 [==============================] - 0s 5ms/step - loss: 10.1619 - mae: 10.1619\n",
            "Epoch 10/100\n",
            "1/1 [==============================] - 0s 6ms/step - loss: 10.0294 - mae: 10.0294\n",
            "Epoch 11/100\n",
            "1/1 [==============================] - 0s 8ms/step - loss: 9.8969 - mae: 9.8969\n",
            "Epoch 12/100\n",
            "1/1 [==============================] - 0s 4ms/step - loss: 9.7644 - mae: 9.7644\n",
            "Epoch 13/100\n",
            "1/1 [==============================] - 0s 5ms/step - loss: 9.6319 - mae: 9.6319\n",
            "Epoch 14/100\n",
            "1/1 [==============================] - 0s 5ms/step - loss: 9.4994 - mae: 9.4994\n",
            "Epoch 15/100\n",
            "1/1 [==============================] - 0s 6ms/step - loss: 9.3669 - mae: 9.3669\n",
            "Epoch 16/100\n",
            "1/1 [==============================] - 0s 6ms/step - loss: 9.2344 - mae: 9.2344\n",
            "Epoch 17/100\n",
            "1/1 [==============================] - 0s 6ms/step - loss: 9.1019 - mae: 9.1019\n",
            "Epoch 18/100\n",
            "1/1 [==============================] - 0s 10ms/step - loss: 8.9694 - mae: 8.9694\n",
            "Epoch 19/100\n",
            "1/1 [==============================] - 0s 4ms/step - loss: 8.8369 - mae: 8.8369\n",
            "Epoch 20/100\n",
            "1/1 [==============================] - 0s 4ms/step - loss: 8.7044 - mae: 8.7044\n",
            "Epoch 21/100\n",
            "1/1 [==============================] - 0s 6ms/step - loss: 8.5719 - mae: 8.5719\n",
            "Epoch 22/100\n",
            "1/1 [==============================] - 0s 4ms/step - loss: 8.4394 - mae: 8.4394\n",
            "Epoch 23/100\n",
            "1/1 [==============================] - 0s 8ms/step - loss: 8.3069 - mae: 8.3069\n",
            "Epoch 24/100\n",
            "1/1 [==============================] - 0s 4ms/step - loss: 8.1744 - mae: 8.1744\n",
            "Epoch 25/100\n",
            "1/1 [==============================] - 0s 4ms/step - loss: 8.0419 - mae: 8.0419\n",
            "Epoch 26/100\n",
            "1/1 [==============================] - 0s 4ms/step - loss: 7.9094 - mae: 7.9094\n",
            "Epoch 27/100\n",
            "1/1 [==============================] - 0s 6ms/step - loss: 7.7769 - mae: 7.7769\n",
            "Epoch 28/100\n",
            "1/1 [==============================] - 0s 6ms/step - loss: 7.6444 - mae: 7.6444\n",
            "Epoch 29/100\n",
            "1/1 [==============================] - 0s 5ms/step - loss: 7.5119 - mae: 7.5119\n",
            "Epoch 30/100\n",
            "1/1 [==============================] - 0s 7ms/step - loss: 7.3794 - mae: 7.3794\n",
            "Epoch 31/100\n",
            "1/1 [==============================] - 0s 6ms/step - loss: 7.2750 - mae: 7.2750\n",
            "Epoch 32/100\n",
            "1/1 [==============================] - 0s 9ms/step - loss: 7.2694 - mae: 7.2694\n",
            "Epoch 33/100\n",
            "1/1 [==============================] - 0s 6ms/step - loss: 7.2638 - mae: 7.2638\n",
            "Epoch 34/100\n",
            "1/1 [==============================] - 0s 9ms/step - loss: 7.2581 - mae: 7.2581\n",
            "Epoch 35/100\n",
            "1/1 [==============================] - 0s 8ms/step - loss: 7.2525 - mae: 7.2525\n",
            "Epoch 36/100\n",
            "1/1 [==============================] - 0s 7ms/step - loss: 7.2469 - mae: 7.2469\n",
            "Epoch 37/100\n",
            "1/1 [==============================] - 0s 8ms/step - loss: 7.2412 - mae: 7.2412\n",
            "Epoch 38/100\n",
            "1/1 [==============================] - 0s 6ms/step - loss: 7.2356 - mae: 7.2356\n",
            "Epoch 39/100\n",
            "1/1 [==============================] - 0s 7ms/step - loss: 7.2300 - mae: 7.2300\n",
            "Epoch 40/100\n",
            "1/1 [==============================] - 0s 14ms/step - loss: 7.2244 - mae: 7.2244\n",
            "Epoch 41/100\n",
            "1/1 [==============================] - 0s 5ms/step - loss: 7.2188 - mae: 7.2188\n",
            "Epoch 42/100\n",
            "1/1 [==============================] - 0s 5ms/step - loss: 7.2131 - mae: 7.2131\n",
            "Epoch 43/100\n",
            "1/1 [==============================] - 0s 5ms/step - loss: 7.2075 - mae: 7.2075\n",
            "Epoch 44/100\n",
            "1/1 [==============================] - 0s 6ms/step - loss: 7.2019 - mae: 7.2019\n",
            "Epoch 45/100\n",
            "1/1 [==============================] - 0s 8ms/step - loss: 7.1962 - mae: 7.1962\n",
            "Epoch 46/100\n",
            "1/1 [==============================] - 0s 5ms/step - loss: 7.1906 - mae: 7.1906\n",
            "Epoch 47/100\n",
            "1/1 [==============================] - 0s 6ms/step - loss: 7.1850 - mae: 7.1850\n",
            "Epoch 48/100\n",
            "1/1 [==============================] - 0s 7ms/step - loss: 7.1794 - mae: 7.1794\n",
            "Epoch 49/100\n",
            "1/1 [==============================] - 0s 7ms/step - loss: 7.1737 - mae: 7.1737\n",
            "Epoch 50/100\n",
            "1/1 [==============================] - 0s 7ms/step - loss: 7.1681 - mae: 7.1681\n",
            "Epoch 51/100\n",
            "1/1 [==============================] - 0s 8ms/step - loss: 7.1625 - mae: 7.1625\n",
            "Epoch 52/100\n",
            "1/1 [==============================] - 0s 6ms/step - loss: 7.1569 - mae: 7.1569\n",
            "Epoch 53/100\n",
            "1/1 [==============================] - 0s 6ms/step - loss: 7.1512 - mae: 7.1512\n",
            "Epoch 54/100\n",
            "1/1 [==============================] - 0s 6ms/step - loss: 7.1456 - mae: 7.1456\n",
            "Epoch 55/100\n",
            "1/1 [==============================] - 0s 6ms/step - loss: 7.1400 - mae: 7.1400\n",
            "Epoch 56/100\n",
            "1/1 [==============================] - 0s 9ms/step - loss: 7.1344 - mae: 7.1344\n",
            "Epoch 57/100\n",
            "1/1 [==============================] - 0s 8ms/step - loss: 7.1287 - mae: 7.1287\n",
            "Epoch 58/100\n",
            "1/1 [==============================] - 0s 8ms/step - loss: 7.1231 - mae: 7.1231\n",
            "Epoch 59/100\n",
            "1/1 [==============================] - 0s 7ms/step - loss: 7.1175 - mae: 7.1175\n",
            "Epoch 60/100\n",
            "1/1 [==============================] - 0s 10ms/step - loss: 7.1119 - mae: 7.1119\n",
            "Epoch 61/100\n",
            "1/1 [==============================] - 0s 9ms/step - loss: 7.1062 - mae: 7.1062\n",
            "Epoch 62/100\n",
            "1/1 [==============================] - 0s 6ms/step - loss: 7.1006 - mae: 7.1006\n",
            "Epoch 63/100\n",
            "1/1 [==============================] - 0s 5ms/step - loss: 7.0950 - mae: 7.0950\n",
            "Epoch 64/100\n",
            "1/1 [==============================] - 0s 10ms/step - loss: 7.0894 - mae: 7.0894\n",
            "Epoch 65/100\n",
            "1/1 [==============================] - 0s 8ms/step - loss: 7.0838 - mae: 7.0838\n",
            "Epoch 66/100\n",
            "1/1 [==============================] - 0s 6ms/step - loss: 7.0781 - mae: 7.0781\n",
            "Epoch 67/100\n",
            "1/1 [==============================] - 0s 7ms/step - loss: 7.0725 - mae: 7.0725\n",
            "Epoch 68/100\n",
            "1/1 [==============================] - 0s 8ms/step - loss: 7.0669 - mae: 7.0669\n",
            "Epoch 69/100\n",
            "1/1 [==============================] - 0s 12ms/step - loss: 7.0613 - mae: 7.0613\n",
            "Epoch 70/100\n",
            "1/1 [==============================] - 0s 10ms/step - loss: 7.0556 - mae: 7.0556\n",
            "Epoch 71/100\n",
            "1/1 [==============================] - 0s 10ms/step - loss: 7.0500 - mae: 7.0500\n",
            "Epoch 72/100\n",
            "1/1 [==============================] - 0s 8ms/step - loss: 7.0444 - mae: 7.0444\n",
            "Epoch 73/100\n",
            "1/1 [==============================] - 0s 5ms/step - loss: 7.0388 - mae: 7.0388\n",
            "Epoch 74/100\n",
            "1/1 [==============================] - 0s 8ms/step - loss: 7.0331 - mae: 7.0331\n",
            "Epoch 75/100\n",
            "1/1 [==============================] - 0s 5ms/step - loss: 7.0275 - mae: 7.0275\n",
            "Epoch 76/100\n",
            "1/1 [==============================] - 0s 6ms/step - loss: 7.0219 - mae: 7.0219\n",
            "Epoch 77/100\n",
            "1/1 [==============================] - 0s 6ms/step - loss: 7.0163 - mae: 7.0163\n",
            "Epoch 78/100\n",
            "1/1 [==============================] - 0s 11ms/step - loss: 7.0106 - mae: 7.0106\n",
            "Epoch 79/100\n",
            "1/1 [==============================] - 0s 8ms/step - loss: 7.0050 - mae: 7.0050\n",
            "Epoch 80/100\n",
            "1/1 [==============================] - 0s 8ms/step - loss: 6.9994 - mae: 6.9994\n",
            "Epoch 81/100\n",
            "1/1 [==============================] - 0s 9ms/step - loss: 6.9938 - mae: 6.9938\n",
            "Epoch 82/100\n",
            "1/1 [==============================] - 0s 6ms/step - loss: 6.9881 - mae: 6.9881\n",
            "Epoch 83/100\n",
            "1/1 [==============================] - 0s 7ms/step - loss: 6.9825 - mae: 6.9825\n",
            "Epoch 84/100\n",
            "1/1 [==============================] - 0s 7ms/step - loss: 6.9769 - mae: 6.9769\n",
            "Epoch 85/100\n",
            "1/1 [==============================] - 0s 8ms/step - loss: 6.9713 - mae: 6.9713\n",
            "Epoch 86/100\n",
            "1/1 [==============================] - 0s 9ms/step - loss: 6.9656 - mae: 6.9656\n",
            "Epoch 87/100\n",
            "1/1 [==============================] - 0s 4ms/step - loss: 6.9600 - mae: 6.9600\n",
            "Epoch 88/100\n",
            "1/1 [==============================] - 0s 4ms/step - loss: 6.9544 - mae: 6.9544\n",
            "Epoch 89/100\n",
            "1/1 [==============================] - 0s 7ms/step - loss: 6.9488 - mae: 6.9488\n",
            "Epoch 90/100\n",
            "1/1 [==============================] - 0s 11ms/step - loss: 6.9431 - mae: 6.9431\n",
            "Epoch 91/100\n",
            "1/1 [==============================] - 0s 7ms/step - loss: 6.9375 - mae: 6.9375\n",
            "Epoch 92/100\n",
            "1/1 [==============================] - 0s 7ms/step - loss: 6.9319 - mae: 6.9319\n",
            "Epoch 93/100\n",
            "1/1 [==============================] - 0s 7ms/step - loss: 6.9263 - mae: 6.9263\n",
            "Epoch 94/100\n",
            "1/1 [==============================] - 0s 6ms/step - loss: 6.9206 - mae: 6.9206\n",
            "Epoch 95/100\n",
            "1/1 [==============================] - 0s 5ms/step - loss: 6.9150 - mae: 6.9150\n",
            "Epoch 96/100\n",
            "1/1 [==============================] - 0s 8ms/step - loss: 6.9094 - mae: 6.9094\n",
            "Epoch 97/100\n",
            "1/1 [==============================] - 0s 18ms/step - loss: 6.9038 - mae: 6.9038\n",
            "Epoch 98/100\n",
            "1/1 [==============================] - 0s 6ms/step - loss: 6.8981 - mae: 6.8981\n",
            "Epoch 99/100\n",
            "1/1 [==============================] - 0s 10ms/step - loss: 6.8925 - mae: 6.8925\n",
            "Epoch 100/100\n",
            "1/1 [==============================] - 0s 6ms/step - loss: 6.8869 - mae: 6.8869\n"
          ],
          "name": "stdout"
        },
        {
          "output_type": "execute_result",
          "data": {
            "text/plain": [
              "<tensorflow.python.keras.callbacks.History at 0x7fb9a038b0d0>"
            ]
          },
          "metadata": {
            "tags": []
          },
          "execution_count": 14
        }
      ]
    },
    {
      "cell_type": "code",
      "metadata": {
        "colab": {
          "base_uri": "https://localhost:8080/"
        },
        "id": "ZzXCQuAeGWOQ",
        "outputId": "dd1c89de-aa26-4071-e665-0a8c42bc1efa"
      },
      "source": [
        "# Os dados originais\n",
        "X,y"
      ],
      "execution_count": null,
      "outputs": [
        {
          "output_type": "execute_result",
          "data": {
            "text/plain": [
              "(<tf.Tensor: shape=(8,), dtype=float32, numpy=array([-7., -4., -1.,  2.,  5.,  8., 11., 14.], dtype=float32)>,\n",
              " <tf.Tensor: shape=(8,), dtype=float32, numpy=array([ 3.,  6.,  9., 12., 15., 18., 21., 24.], dtype=float32)>)"
            ]
          },
          "metadata": {
            "tags": []
          },
          "execution_count": 15
        }
      ]
    },
    {
      "cell_type": "code",
      "metadata": {
        "colab": {
          "base_uri": "https://localhost:8080/"
        },
        "id": "Is2xA0YxGZr1",
        "outputId": "7b18ec99-bd39-4db3-e011-bfab98d0a756"
      },
      "source": [
        "# Predizer o valor de y utilizando o modelo\n",
        "model.predict([17.0])"
      ],
      "execution_count": null,
      "outputs": [
        {
          "output_type": "execute_result",
          "data": {
            "text/plain": [
              "array([[29.739855]], dtype=float32)"
            ]
          },
          "metadata": {
            "tags": []
          },
          "execution_count": 16
        }
      ]
    },
    {
      "cell_type": "code",
      "metadata": {
        "colab": {
          "base_uri": "https://localhost:8080/"
        },
        "id": "yF9Bbb_TG0_q",
        "outputId": "7373f15e-af42-4f41-c458-9ca0b7dc2585"
      },
      "source": [
        "# Recriando nosso modelo\n",
        "\n",
        "# 1. Criando o modelo\n",
        "model = tf.keras.Sequential([\n",
        "  tf.keras.layers.Dense(100, activation=\"relu\"),\n",
        "  tf.keras.layers.Dense(1)\n",
        "])\n",
        "\n",
        "# 2. Compilar o modelo\n",
        "model.compile(loss=tf.keras.losses.mae,\n",
        "              optimizer=tf.keras.optimizers.SGD(),\n",
        "              metrics=[\"mae\"])\n",
        "\n",
        "# 3. Preencher o modelo\n",
        "model.fit(X, y, epochs=100)"
      ],
      "execution_count": null,
      "outputs": [
        {
          "output_type": "stream",
          "text": [
            "Epoch 1/100\n",
            "1/1 [==============================] - 0s 322ms/step - loss: 12.3193 - mae: 12.3193\n",
            "Epoch 2/100\n",
            "1/1 [==============================] - 0s 5ms/step - loss: 11.7804 - mae: 11.7804\n",
            "Epoch 3/100\n",
            "1/1 [==============================] - 0s 7ms/step - loss: 11.2324 - mae: 11.2324\n",
            "Epoch 4/100\n",
            "1/1 [==============================] - 0s 6ms/step - loss: 10.6601 - mae: 10.6601\n",
            "Epoch 5/100\n",
            "1/1 [==============================] - 0s 9ms/step - loss: 10.0632 - mae: 10.0632\n",
            "Epoch 6/100\n",
            "1/1 [==============================] - 0s 9ms/step - loss: 9.4503 - mae: 9.4503\n",
            "Epoch 7/100\n",
            "1/1 [==============================] - 0s 5ms/step - loss: 8.7991 - mae: 8.7991\n",
            "Epoch 8/100\n",
            "1/1 [==============================] - 0s 6ms/step - loss: 8.1072 - mae: 8.1072\n",
            "Epoch 9/100\n",
            "1/1 [==============================] - 0s 7ms/step - loss: 7.3691 - mae: 7.3691\n",
            "Epoch 10/100\n",
            "1/1 [==============================] - 0s 8ms/step - loss: 6.5758 - mae: 6.5758\n",
            "Epoch 11/100\n",
            "1/1 [==============================] - 0s 5ms/step - loss: 5.7205 - mae: 5.7205\n",
            "Epoch 12/100\n",
            "1/1 [==============================] - 0s 6ms/step - loss: 4.7947 - mae: 4.7947\n",
            "Epoch 13/100\n",
            "1/1 [==============================] - 0s 5ms/step - loss: 4.3581 - mae: 4.3581\n",
            "Epoch 14/100\n",
            "1/1 [==============================] - 0s 6ms/step - loss: 4.3134 - mae: 4.3134\n",
            "Epoch 15/100\n",
            "1/1 [==============================] - 0s 8ms/step - loss: 4.2550 - mae: 4.2550\n",
            "Epoch 16/100\n",
            "1/1 [==============================] - 0s 13ms/step - loss: 4.2442 - mae: 4.2442\n",
            "Epoch 17/100\n",
            "1/1 [==============================] - 0s 4ms/step - loss: 4.1520 - mae: 4.1520\n",
            "Epoch 18/100\n",
            "1/1 [==============================] - 0s 11ms/step - loss: 4.1739 - mae: 4.1739\n",
            "Epoch 19/100\n",
            "1/1 [==============================] - 0s 10ms/step - loss: 4.0681 - mae: 4.0681\n",
            "Epoch 20/100\n",
            "1/1 [==============================] - 0s 7ms/step - loss: 4.0807 - mae: 4.0807\n",
            "Epoch 21/100\n",
            "1/1 [==============================] - 0s 6ms/step - loss: 3.9954 - mae: 3.9954\n",
            "Epoch 22/100\n",
            "1/1 [==============================] - 0s 12ms/step - loss: 3.9739 - mae: 3.9739\n",
            "Epoch 23/100\n",
            "1/1 [==============================] - 0s 5ms/step - loss: 3.9208 - mae: 3.9208\n",
            "Epoch 24/100\n",
            "1/1 [==============================] - 0s 5ms/step - loss: 3.9047 - mae: 3.9047\n",
            "Epoch 25/100\n",
            "1/1 [==============================] - 0s 5ms/step - loss: 3.9267 - mae: 3.9267\n",
            "Epoch 26/100\n",
            "1/1 [==============================] - 0s 7ms/step - loss: 3.8797 - mae: 3.8797\n",
            "Epoch 27/100\n",
            "1/1 [==============================] - 0s 4ms/step - loss: 3.9341 - mae: 3.9341\n",
            "Epoch 28/100\n",
            "1/1 [==============================] - 0s 6ms/step - loss: 3.8678 - mae: 3.8678\n",
            "Epoch 29/100\n",
            "1/1 [==============================] - 0s 5ms/step - loss: 3.9274 - mae: 3.9274\n",
            "Epoch 30/100\n",
            "1/1 [==============================] - 0s 15ms/step - loss: 3.8751 - mae: 3.8751\n",
            "Epoch 31/100\n",
            "1/1 [==============================] - 0s 6ms/step - loss: 3.9080 - mae: 3.9080\n",
            "Epoch 32/100\n",
            "1/1 [==============================] - 0s 5ms/step - loss: 3.8893 - mae: 3.8893\n",
            "Epoch 33/100\n",
            "1/1 [==============================] - 0s 7ms/step - loss: 3.8834 - mae: 3.8834\n",
            "Epoch 34/100\n",
            "1/1 [==============================] - 0s 7ms/step - loss: 3.8969 - mae: 3.8969\n",
            "Epoch 35/100\n",
            "1/1 [==============================] - 0s 6ms/step - loss: 3.8581 - mae: 3.8581\n",
            "Epoch 36/100\n",
            "1/1 [==============================] - 0s 5ms/step - loss: 3.9046 - mae: 3.9046\n",
            "Epoch 37/100\n",
            "1/1 [==============================] - 0s 6ms/step - loss: 3.8386 - mae: 3.8386\n",
            "Epoch 38/100\n",
            "1/1 [==============================] - 0s 7ms/step - loss: 3.9054 - mae: 3.9054\n",
            "Epoch 39/100\n",
            "1/1 [==============================] - 0s 7ms/step - loss: 3.8482 - mae: 3.8482\n",
            "Epoch 40/100\n",
            "1/1 [==============================] - 0s 7ms/step - loss: 3.8862 - mae: 3.8862\n",
            "Epoch 41/100\n",
            "1/1 [==============================] - 0s 5ms/step - loss: 3.8605 - mae: 3.8605\n",
            "Epoch 42/100\n",
            "1/1 [==============================] - 0s 5ms/step - loss: 3.8608 - mae: 3.8608\n",
            "Epoch 43/100\n",
            "1/1 [==============================] - 0s 8ms/step - loss: 3.8683 - mae: 3.8683\n",
            "Epoch 44/100\n",
            "1/1 [==============================] - 0s 9ms/step - loss: 3.8352 - mae: 3.8352\n",
            "Epoch 45/100\n",
            "1/1 [==============================] - 0s 7ms/step - loss: 3.8762 - mae: 3.8762\n",
            "Epoch 46/100\n",
            "1/1 [==============================] - 0s 7ms/step - loss: 3.8106 - mae: 3.8106\n",
            "Epoch 47/100\n",
            "1/1 [==============================] - 0s 6ms/step - loss: 3.8821 - mae: 3.8821\n",
            "Epoch 48/100\n",
            "1/1 [==============================] - 0s 5ms/step - loss: 3.8234 - mae: 3.8234\n",
            "Epoch 49/100\n",
            "1/1 [==============================] - 0s 6ms/step - loss: 3.8626 - mae: 3.8626\n",
            "Epoch 50/100\n",
            "1/1 [==============================] - 0s 6ms/step - loss: 3.8328 - mae: 3.8328\n",
            "Epoch 51/100\n",
            "1/1 [==============================] - 0s 7ms/step - loss: 3.8369 - mae: 3.8369\n",
            "Epoch 52/100\n",
            "1/1 [==============================] - 0s 8ms/step - loss: 3.8408 - mae: 3.8408\n",
            "Epoch 53/100\n",
            "1/1 [==============================] - 0s 8ms/step - loss: 3.8111 - mae: 3.8111\n",
            "Epoch 54/100\n",
            "1/1 [==============================] - 0s 7ms/step - loss: 3.8489 - mae: 3.8489\n",
            "Epoch 55/100\n",
            "1/1 [==============================] - 0s 7ms/step - loss: 3.7850 - mae: 3.7850\n",
            "Epoch 56/100\n",
            "1/1 [==============================] - 0s 5ms/step - loss: 3.8585 - mae: 3.8585\n",
            "Epoch 57/100\n",
            "1/1 [==============================] - 0s 7ms/step - loss: 3.7982 - mae: 3.7982\n",
            "Epoch 58/100\n",
            "1/1 [==============================] - 0s 7ms/step - loss: 3.8377 - mae: 3.8377\n",
            "Epoch 59/100\n",
            "1/1 [==============================] - 0s 5ms/step - loss: 3.8062 - mae: 3.8062\n",
            "Epoch 60/100\n",
            "1/1 [==============================] - 0s 8ms/step - loss: 3.8117 - mae: 3.8117\n",
            "Epoch 61/100\n",
            "1/1 [==============================] - 0s 7ms/step - loss: 3.8144 - mae: 3.8144\n",
            "Epoch 62/100\n",
            "1/1 [==============================] - 0s 6ms/step - loss: 3.7856 - mae: 3.7856\n",
            "Epoch 63/100\n",
            "1/1 [==============================] - 0s 9ms/step - loss: 3.8227 - mae: 3.8227\n",
            "Epoch 64/100\n",
            "1/1 [==============================] - 0s 5ms/step - loss: 3.7593 - mae: 3.7593\n",
            "Epoch 65/100\n",
            "1/1 [==============================] - 0s 5ms/step - loss: 3.8352 - mae: 3.8352\n",
            "Epoch 66/100\n",
            "1/1 [==============================] - 0s 6ms/step - loss: 3.7725 - mae: 3.7725\n",
            "Epoch 67/100\n",
            "1/1 [==============================] - 0s 5ms/step - loss: 3.8115 - mae: 3.8115\n",
            "Epoch 68/100\n",
            "1/1 [==============================] - 0s 6ms/step - loss: 3.7807 - mae: 3.7807\n",
            "Epoch 69/100\n",
            "1/1 [==============================] - 0s 5ms/step - loss: 3.7853 - mae: 3.7853\n",
            "Epoch 70/100\n",
            "1/1 [==============================] - 0s 7ms/step - loss: 3.7891 - mae: 3.7891\n",
            "Epoch 71/100\n",
            "1/1 [==============================] - 0s 5ms/step - loss: 3.7588 - mae: 3.7588\n",
            "Epoch 72/100\n",
            "1/1 [==============================] - 0s 5ms/step - loss: 3.7975 - mae: 3.7975\n",
            "Epoch 73/100\n",
            "1/1 [==============================] - 0s 6ms/step - loss: 3.7337 - mae: 3.7337\n",
            "Epoch 74/100\n",
            "1/1 [==============================] - 0s 6ms/step - loss: 3.8105 - mae: 3.8105\n",
            "Epoch 75/100\n",
            "1/1 [==============================] - 0s 5ms/step - loss: 3.7478 - mae: 3.7478\n",
            "Epoch 76/100\n",
            "1/1 [==============================] - 0s 6ms/step - loss: 3.7840 - mae: 3.7840\n",
            "Epoch 77/100\n",
            "1/1 [==============================] - 0s 5ms/step - loss: 3.7563 - mae: 3.7563\n",
            "Epoch 78/100\n",
            "1/1 [==============================] - 0s 5ms/step - loss: 3.7575 - mae: 3.7575\n",
            "Epoch 79/100\n",
            "1/1 [==============================] - 0s 6ms/step - loss: 3.7648 - mae: 3.7648\n",
            "Epoch 80/100\n",
            "1/1 [==============================] - 0s 7ms/step - loss: 3.7307 - mae: 3.7307\n",
            "Epoch 81/100\n",
            "1/1 [==============================] - 0s 5ms/step - loss: 3.7735 - mae: 3.7735\n",
            "Epoch 82/100\n",
            "1/1 [==============================] - 0s 6ms/step - loss: 3.7125 - mae: 3.7125\n",
            "Epoch 83/100\n",
            "1/1 [==============================] - 0s 5ms/step - loss: 3.7820 - mae: 3.7820\n",
            "Epoch 84/100\n",
            "1/1 [==============================] - 0s 6ms/step - loss: 3.7242 - mae: 3.7242\n",
            "Epoch 85/100\n",
            "1/1 [==============================] - 0s 5ms/step - loss: 3.7552 - mae: 3.7552\n",
            "Epoch 86/100\n",
            "1/1 [==============================] - 0s 8ms/step - loss: 3.7329 - mae: 3.7329\n",
            "Epoch 87/100\n",
            "1/1 [==============================] - 0s 5ms/step - loss: 3.7284 - mae: 3.7284\n",
            "Epoch 88/100\n",
            "1/1 [==============================] - 0s 4ms/step - loss: 3.7416 - mae: 3.7416\n",
            "Epoch 89/100\n",
            "1/1 [==============================] - 0s 6ms/step - loss: 3.7013 - mae: 3.7013\n",
            "Epoch 90/100\n",
            "1/1 [==============================] - 0s 6ms/step - loss: 3.7505 - mae: 3.7505\n",
            "Epoch 91/100\n",
            "1/1 [==============================] - 0s 5ms/step - loss: 3.6921 - mae: 3.6921\n",
            "Epoch 92/100\n",
            "1/1 [==============================] - 0s 9ms/step - loss: 3.7522 - mae: 3.7522\n",
            "Epoch 93/100\n",
            "1/1 [==============================] - 0s 4ms/step - loss: 3.7016 - mae: 3.7016\n",
            "Epoch 94/100\n",
            "1/1 [==============================] - 0s 7ms/step - loss: 3.7251 - mae: 3.7251\n",
            "Epoch 95/100\n",
            "1/1 [==============================] - 0s 5ms/step - loss: 3.7105 - mae: 3.7105\n",
            "Epoch 96/100\n",
            "1/1 [==============================] - 0s 7ms/step - loss: 3.6979 - mae: 3.6979\n",
            "Epoch 97/100\n",
            "1/1 [==============================] - 0s 7ms/step - loss: 3.7194 - mae: 3.7194\n",
            "Epoch 98/100\n",
            "1/1 [==============================] - 0s 7ms/step - loss: 3.6705 - mae: 3.6705\n",
            "Epoch 99/100\n",
            "1/1 [==============================] - 0s 14ms/step - loss: 3.7299 - mae: 3.7299\n",
            "Epoch 100/100\n",
            "1/1 [==============================] - 0s 6ms/step - loss: 3.6711 - mae: 3.6711\n"
          ],
          "name": "stdout"
        },
        {
          "output_type": "execute_result",
          "data": {
            "text/plain": [
              "<tensorflow.python.keras.callbacks.History at 0x7fb99f264f50>"
            ]
          },
          "metadata": {
            "tags": []
          },
          "execution_count": 17
        }
      ]
    },
    {
      "cell_type": "code",
      "metadata": {
        "colab": {
          "base_uri": "https://localhost:8080/"
        },
        "id": "Vm0iP81bHVct",
        "outputId": "9e1ce736-cf4c-4d59-fe14-f6787054354b"
      },
      "source": [
        "# Os dados originais\n",
        "X,y"
      ],
      "execution_count": null,
      "outputs": [
        {
          "output_type": "execute_result",
          "data": {
            "text/plain": [
              "(<tf.Tensor: shape=(8,), dtype=float32, numpy=array([-7., -4., -1.,  2.,  5.,  8., 11., 14.], dtype=float32)>,\n",
              " <tf.Tensor: shape=(8,), dtype=float32, numpy=array([ 3.,  6.,  9., 12., 15., 18., 21., 24.], dtype=float32)>)"
            ]
          },
          "metadata": {
            "tags": []
          },
          "execution_count": 18
        }
      ]
    },
    {
      "cell_type": "code",
      "metadata": {
        "colab": {
          "base_uri": "https://localhost:8080/"
        },
        "id": "fjTqF65uHY13",
        "outputId": "725bda81-433f-4689-aa07-98cae4fa2933"
      },
      "source": [
        "# Predizer o valor de y utilizando o modelo\n",
        "model.predict([17.0])"
      ],
      "execution_count": null,
      "outputs": [
        {
          "output_type": "execute_result",
          "data": {
            "text/plain": [
              "array([[31.223137]], dtype=float32)"
            ]
          },
          "metadata": {
            "tags": []
          },
          "execution_count": 19
        }
      ]
    },
    {
      "cell_type": "code",
      "metadata": {
        "colab": {
          "base_uri": "https://localhost:8080/"
        },
        "id": "YAZ0MWtTIFdy",
        "outputId": "576f0e61-6525-46c1-dd9b-d4bd2a9db8a3"
      },
      "source": [
        "# Predizer o valor de y utilizando o modelo para valores dentro dos já criados\n",
        "model.predict([14.0])"
      ],
      "execution_count": null,
      "outputs": [
        {
          "output_type": "execute_result",
          "data": {
            "text/plain": [
              "array([[25.886572]], dtype=float32)"
            ]
          },
          "metadata": {
            "tags": []
          },
          "execution_count": 20
        }
      ]
    },
    {
      "cell_type": "code",
      "metadata": {
        "colab": {
          "base_uri": "https://localhost:8080/"
        },
        "id": "iU_V8EFilD70",
        "outputId": "0101370c-98cf-40d4-cf89-1749b0f7e37a"
      },
      "source": [
        "# Recriando nosso modelo\n",
        "\n",
        "# 1. Criando o modelo\n",
        "model = tf.keras.Sequential([\n",
        "  tf.keras.layers.Dense(50, activation=None), #Modificado a função de ativação para nenhuma\n",
        "  tf.keras.layers.Dense(1)\n",
        "])\n",
        "\n",
        "# 2. Compilar o modelo\n",
        "model.compile(loss=tf.keras.losses.mae,\n",
        "              optimizer=tf.keras.optimizers.SGD(),\n",
        "              metrics=[\"mae\"])\n",
        "\n",
        "# 3. Preencher o modelo\n",
        "model.fit(X, y, epochs=100)"
      ],
      "execution_count": null,
      "outputs": [
        {
          "output_type": "stream",
          "text": [
            "Epoch 1/100\n",
            "1/1 [==============================] - 0s 307ms/step - loss: 12.2895 - mae: 12.2895\n",
            "Epoch 2/100\n",
            "1/1 [==============================] - 0s 5ms/step - loss: 11.7908 - mae: 11.7908\n",
            "Epoch 3/100\n",
            "1/1 [==============================] - 0s 6ms/step - loss: 11.2845 - mae: 11.2845\n",
            "Epoch 4/100\n",
            "1/1 [==============================] - 0s 6ms/step - loss: 10.7678 - mae: 10.7678\n",
            "Epoch 5/100\n",
            "1/1 [==============================] - 0s 7ms/step - loss: 10.2381 - mae: 10.2381\n",
            "Epoch 6/100\n",
            "1/1 [==============================] - 0s 5ms/step - loss: 9.6928 - mae: 9.6928\n",
            "Epoch 7/100\n",
            "1/1 [==============================] - 0s 6ms/step - loss: 9.1289 - mae: 9.1289\n",
            "Epoch 8/100\n",
            "1/1 [==============================] - 0s 4ms/step - loss: 8.5437 - mae: 8.5437\n",
            "Epoch 9/100\n",
            "1/1 [==============================] - 0s 4ms/step - loss: 7.9341 - mae: 7.9341\n",
            "Epoch 10/100\n",
            "1/1 [==============================] - 0s 6ms/step - loss: 7.2971 - mae: 7.2971\n",
            "Epoch 11/100\n",
            "1/1 [==============================] - 0s 7ms/step - loss: 7.2595 - mae: 7.2595\n",
            "Epoch 12/100\n",
            "1/1 [==============================] - 0s 7ms/step - loss: 7.2396 - mae: 7.2396\n",
            "Epoch 13/100\n",
            "1/1 [==============================] - 0s 5ms/step - loss: 7.2197 - mae: 7.2197\n",
            "Epoch 14/100\n",
            "1/1 [==============================] - 0s 5ms/step - loss: 7.2056 - mae: 7.2056\n",
            "Epoch 15/100\n",
            "1/1 [==============================] - 0s 7ms/step - loss: 7.1903 - mae: 7.1903\n",
            "Epoch 16/100\n",
            "1/1 [==============================] - 0s 4ms/step - loss: 7.1708 - mae: 7.1708\n",
            "Epoch 17/100\n",
            "1/1 [==============================] - 0s 6ms/step - loss: 7.1513 - mae: 7.1513\n",
            "Epoch 18/100\n",
            "1/1 [==============================] - 0s 3ms/step - loss: 7.1317 - mae: 7.1317\n",
            "Epoch 19/100\n",
            "1/1 [==============================] - 0s 5ms/step - loss: 7.1121 - mae: 7.1121\n",
            "Epoch 20/100\n",
            "1/1 [==============================] - 0s 6ms/step - loss: 7.0924 - mae: 7.0924\n",
            "Epoch 21/100\n",
            "1/1 [==============================] - 0s 4ms/step - loss: 7.0727 - mae: 7.0727\n",
            "Epoch 22/100\n",
            "1/1 [==============================] - 0s 5ms/step - loss: 7.0529 - mae: 7.0529\n",
            "Epoch 23/100\n",
            "1/1 [==============================] - 0s 5ms/step - loss: 7.0330 - mae: 7.0330\n",
            "Epoch 24/100\n",
            "1/1 [==============================] - 0s 5ms/step - loss: 7.0130 - mae: 7.0130\n",
            "Epoch 25/100\n",
            "1/1 [==============================] - 0s 5ms/step - loss: 6.9930 - mae: 6.9930\n",
            "Epoch 26/100\n",
            "1/1 [==============================] - 0s 5ms/step - loss: 6.9729 - mae: 6.9729\n",
            "Epoch 27/100\n",
            "1/1 [==============================] - 0s 5ms/step - loss: 6.9527 - mae: 6.9527\n",
            "Epoch 28/100\n",
            "1/1 [==============================] - 0s 10ms/step - loss: 6.9324 - mae: 6.9324\n",
            "Epoch 29/100\n",
            "1/1 [==============================] - 0s 6ms/step - loss: 6.9121 - mae: 6.9121\n",
            "Epoch 30/100\n",
            "1/1 [==============================] - 0s 5ms/step - loss: 6.8916 - mae: 6.8916\n",
            "Epoch 31/100\n",
            "1/1 [==============================] - 0s 5ms/step - loss: 6.8711 - mae: 6.8711\n",
            "Epoch 32/100\n",
            "1/1 [==============================] - 0s 5ms/step - loss: 6.8504 - mae: 6.8504\n",
            "Epoch 33/100\n",
            "1/1 [==============================] - 0s 5ms/step - loss: 6.8297 - mae: 6.8297\n",
            "Epoch 34/100\n",
            "1/1 [==============================] - 0s 5ms/step - loss: 6.8089 - mae: 6.8089\n",
            "Epoch 35/100\n",
            "1/1 [==============================] - 0s 11ms/step - loss: 6.7879 - mae: 6.7879\n",
            "Epoch 36/100\n",
            "1/1 [==============================] - 0s 4ms/step - loss: 6.7668 - mae: 6.7668\n",
            "Epoch 37/100\n",
            "1/1 [==============================] - 0s 5ms/step - loss: 6.7456 - mae: 6.7456\n",
            "Epoch 38/100\n",
            "1/1 [==============================] - 0s 7ms/step - loss: 6.7243 - mae: 6.7243\n",
            "Epoch 39/100\n",
            "1/1 [==============================] - 0s 4ms/step - loss: 6.7029 - mae: 6.7029\n",
            "Epoch 40/100\n",
            "1/1 [==============================] - 0s 7ms/step - loss: 6.6814 - mae: 6.6814\n",
            "Epoch 41/100\n",
            "1/1 [==============================] - 0s 4ms/step - loss: 6.6597 - mae: 6.6597\n",
            "Epoch 42/100\n",
            "1/1 [==============================] - 0s 6ms/step - loss: 6.6379 - mae: 6.6379\n",
            "Epoch 43/100\n",
            "1/1 [==============================] - 0s 17ms/step - loss: 6.6286 - mae: 6.6286\n",
            "Epoch 44/100\n",
            "1/1 [==============================] - 0s 12ms/step - loss: 6.6127 - mae: 6.6127\n",
            "Epoch 45/100\n",
            "1/1 [==============================] - 0s 6ms/step - loss: 6.5911 - mae: 6.5911\n",
            "Epoch 46/100\n",
            "1/1 [==============================] - 0s 7ms/step - loss: 6.5693 - mae: 6.5693\n",
            "Epoch 47/100\n",
            "1/1 [==============================] - 0s 6ms/step - loss: 6.5474 - mae: 6.5474\n",
            "Epoch 48/100\n",
            "1/1 [==============================] - 0s 7ms/step - loss: 6.5253 - mae: 6.5253\n",
            "Epoch 49/100\n",
            "1/1 [==============================] - 0s 14ms/step - loss: 6.5031 - mae: 6.5031\n",
            "Epoch 50/100\n",
            "1/1 [==============================] - 0s 6ms/step - loss: 6.4807 - mae: 6.4807\n",
            "Epoch 51/100\n",
            "1/1 [==============================] - 0s 7ms/step - loss: 6.4581 - mae: 6.4581\n",
            "Epoch 52/100\n",
            "1/1 [==============================] - 0s 10ms/step - loss: 6.4354 - mae: 6.4354\n",
            "Epoch 53/100\n",
            "1/1 [==============================] - 0s 9ms/step - loss: 6.4125 - mae: 6.4125\n",
            "Epoch 54/100\n",
            "1/1 [==============================] - 0s 6ms/step - loss: 6.3895 - mae: 6.3895\n",
            "Epoch 55/100\n",
            "1/1 [==============================] - 0s 8ms/step - loss: 6.3662 - mae: 6.3662\n",
            "Epoch 56/100\n",
            "1/1 [==============================] - 0s 10ms/step - loss: 6.3428 - mae: 6.3428\n",
            "Epoch 57/100\n",
            "1/1 [==============================] - 0s 11ms/step - loss: 6.3192 - mae: 6.3192\n",
            "Epoch 58/100\n",
            "1/1 [==============================] - 0s 23ms/step - loss: 6.2954 - mae: 6.2954\n",
            "Epoch 59/100\n",
            "1/1 [==============================] - 0s 8ms/step - loss: 6.2714 - mae: 6.2714\n",
            "Epoch 60/100\n",
            "1/1 [==============================] - 0s 8ms/step - loss: 6.2472 - mae: 6.2472\n",
            "Epoch 61/100\n",
            "1/1 [==============================] - 0s 8ms/step - loss: 6.2228 - mae: 6.2228\n",
            "Epoch 62/100\n",
            "1/1 [==============================] - 0s 8ms/step - loss: 6.1983 - mae: 6.1983\n",
            "Epoch 63/100\n",
            "1/1 [==============================] - 0s 8ms/step - loss: 6.1964 - mae: 6.1964\n",
            "Epoch 64/100\n",
            "1/1 [==============================] - 0s 5ms/step - loss: 6.1730 - mae: 6.1730\n",
            "Epoch 65/100\n",
            "1/1 [==============================] - 0s 5ms/step - loss: 6.1484 - mae: 6.1484\n",
            "Epoch 66/100\n",
            "1/1 [==============================] - 0s 4ms/step - loss: 6.1236 - mae: 6.1236\n",
            "Epoch 67/100\n",
            "1/1 [==============================] - 0s 5ms/step - loss: 6.0985 - mae: 6.0985\n",
            "Epoch 68/100\n",
            "1/1 [==============================] - 0s 6ms/step - loss: 6.0732 - mae: 6.0732\n",
            "Epoch 69/100\n",
            "1/1 [==============================] - 0s 6ms/step - loss: 6.0477 - mae: 6.0477\n",
            "Epoch 70/100\n",
            "1/1 [==============================] - 0s 5ms/step - loss: 6.0219 - mae: 6.0219\n",
            "Epoch 71/100\n",
            "1/1 [==============================] - 0s 5ms/step - loss: 5.9959 - mae: 5.9959\n",
            "Epoch 72/100\n",
            "1/1 [==============================] - 0s 7ms/step - loss: 5.9696 - mae: 5.9696\n",
            "Epoch 73/100\n",
            "1/1 [==============================] - 0s 5ms/step - loss: 5.9431 - mae: 5.9431\n",
            "Epoch 74/100\n",
            "1/1 [==============================] - 0s 9ms/step - loss: 5.9164 - mae: 5.9164\n",
            "Epoch 75/100\n",
            "1/1 [==============================] - 0s 13ms/step - loss: 5.8894 - mae: 5.8894\n",
            "Epoch 76/100\n",
            "1/1 [==============================] - 0s 9ms/step - loss: 5.8621 - mae: 5.8621\n",
            "Epoch 77/100\n",
            "1/1 [==============================] - 0s 8ms/step - loss: 5.8346 - mae: 5.8346\n",
            "Epoch 78/100\n",
            "1/1 [==============================] - 0s 11ms/step - loss: 5.8068 - mae: 5.8068\n",
            "Epoch 79/100\n",
            "1/1 [==============================] - 0s 15ms/step - loss: 5.7949 - mae: 5.7949\n",
            "Epoch 80/100\n",
            "1/1 [==============================] - 0s 6ms/step - loss: 5.7793 - mae: 5.7793\n",
            "Epoch 81/100\n",
            "1/1 [==============================] - 0s 5ms/step - loss: 5.7512 - mae: 5.7512\n",
            "Epoch 82/100\n",
            "1/1 [==============================] - 0s 5ms/step - loss: 5.7229 - mae: 5.7229\n",
            "Epoch 83/100\n",
            "1/1 [==============================] - 0s 5ms/step - loss: 5.6943 - mae: 5.6943\n",
            "Epoch 84/100\n",
            "1/1 [==============================] - 0s 5ms/step - loss: 5.6654 - mae: 5.6654\n",
            "Epoch 85/100\n",
            "1/1 [==============================] - 0s 7ms/step - loss: 5.6361 - mae: 5.6361\n",
            "Epoch 86/100\n",
            "1/1 [==============================] - 0s 6ms/step - loss: 5.6066 - mae: 5.6066\n",
            "Epoch 87/100\n",
            "1/1 [==============================] - 0s 14ms/step - loss: 5.5767 - mae: 5.5767\n",
            "Epoch 88/100\n",
            "1/1 [==============================] - 0s 5ms/step - loss: 5.5466 - mae: 5.5466\n",
            "Epoch 89/100\n",
            "1/1 [==============================] - 0s 4ms/step - loss: 5.5161 - mae: 5.5161\n",
            "Epoch 90/100\n",
            "1/1 [==============================] - 0s 9ms/step - loss: 5.4853 - mae: 5.4853\n",
            "Epoch 91/100\n",
            "1/1 [==============================] - 0s 5ms/step - loss: 5.4541 - mae: 5.4541\n",
            "Epoch 92/100\n",
            "1/1 [==============================] - 0s 6ms/step - loss: 5.4226 - mae: 5.4226\n",
            "Epoch 93/100\n",
            "1/1 [==============================] - 0s 5ms/step - loss: 5.3908 - mae: 5.3908\n",
            "Epoch 94/100\n",
            "1/1 [==============================] - 0s 8ms/step - loss: 5.3897 - mae: 5.3897\n",
            "Epoch 95/100\n",
            "1/1 [==============================] - 0s 10ms/step - loss: 5.3713 - mae: 5.3713\n",
            "Epoch 96/100\n",
            "1/1 [==============================] - 0s 8ms/step - loss: 5.5008 - mae: 5.5008\n",
            "Epoch 97/100\n",
            "1/1 [==============================] - 0s 4ms/step - loss: 5.2897 - mae: 5.2897\n",
            "Epoch 98/100\n",
            "1/1 [==============================] - 0s 4ms/step - loss: 5.2566 - mae: 5.2566\n",
            "Epoch 99/100\n",
            "1/1 [==============================] - 0s 4ms/step - loss: 5.2231 - mae: 5.2231\n",
            "Epoch 100/100\n",
            "1/1 [==============================] - 0s 5ms/step - loss: 5.1892 - mae: 5.1892\n"
          ],
          "name": "stdout"
        },
        {
          "output_type": "execute_result",
          "data": {
            "text/plain": [
              "<tensorflow.python.keras.callbacks.History at 0x7fb99dc8e910>"
            ]
          },
          "metadata": {
            "tags": []
          },
          "execution_count": 21
        }
      ]
    },
    {
      "cell_type": "code",
      "metadata": {
        "colab": {
          "base_uri": "https://localhost:8080/"
        },
        "id": "8FSnNIPblJLJ",
        "outputId": "7c8d5862-7ccb-4bce-fc06-34ce78afe24b"
      },
      "source": [
        "# Predizer o valor de y utilizando o modelo\n",
        "model.predict([17.0])"
      ],
      "execution_count": null,
      "outputs": [
        {
          "output_type": "execute_result",
          "data": {
            "text/plain": [
              "array([[30.220297]], dtype=float32)"
            ]
          },
          "metadata": {
            "tags": []
          },
          "execution_count": 22
        }
      ]
    },
    {
      "cell_type": "code",
      "metadata": {
        "colab": {
          "base_uri": "https://localhost:8080/"
        },
        "id": "MePZF3CllU9Q",
        "outputId": "50fd9ae6-a4cf-4478-e0c7-c2094b406805"
      },
      "source": [
        "# Recriando nosso modelo\n",
        "\n",
        "# 1. Criando o modelo\n",
        "model = tf.keras.Sequential([\n",
        "  tf.keras.layers.Dense(50, activation=None), #Modificado a função de ativação para nenhuma\n",
        "  tf.keras.layers.Dense(1)\n",
        "])\n",
        "\n",
        "# 2. Compilar o modelo\n",
        "model.compile(loss=tf.keras.losses.mae,\n",
        "              optimizer=tf.keras.optimizers.Adam(lr=0.01),    #Modificado a função de otimização\n",
        "              metrics=[\"mae\"])                         #Mudar a velocidade de aprendizado  (Geral, é o hyperparâmetro mais importante para modificar no algoritmo)\n",
        "\n",
        "# 3. Preencher o modelo\n",
        "model.fit(X, y, epochs=100)"
      ],
      "execution_count": null,
      "outputs": [
        {
          "output_type": "stream",
          "text": [
            "/usr/local/lib/python3.7/dist-packages/tensorflow/python/keras/optimizer_v2/optimizer_v2.py:375: UserWarning: The `lr` argument is deprecated, use `learning_rate` instead.\n",
            "  \"The `lr` argument is deprecated, use `learning_rate` instead.\")\n"
          ],
          "name": "stderr"
        },
        {
          "output_type": "stream",
          "text": [
            "Epoch 1/100\n",
            "1/1 [==============================] - 0s 354ms/step - loss: 12.5419 - mae: 12.5419\n",
            "Epoch 2/100\n",
            "1/1 [==============================] - 0s 6ms/step - loss: 11.8482 - mae: 11.8482\n",
            "Epoch 3/100\n",
            "1/1 [==============================] - 0s 5ms/step - loss: 11.1529 - mae: 11.1529\n",
            "Epoch 4/100\n",
            "1/1 [==============================] - 0s 11ms/step - loss: 10.4547 - mae: 10.4547\n",
            "Epoch 5/100\n",
            "1/1 [==============================] - 0s 6ms/step - loss: 9.7511 - mae: 9.7511\n",
            "Epoch 6/100\n",
            "1/1 [==============================] - 0s 4ms/step - loss: 9.0391 - mae: 9.0391\n",
            "Epoch 7/100\n",
            "1/1 [==============================] - 0s 7ms/step - loss: 8.3156 - mae: 8.3156\n",
            "Epoch 8/100\n",
            "1/1 [==============================] - 0s 7ms/step - loss: 7.5775 - mae: 7.5775\n",
            "Epoch 9/100\n",
            "1/1 [==============================] - 0s 5ms/step - loss: 6.9147 - mae: 6.9147\n",
            "Epoch 10/100\n",
            "1/1 [==============================] - 0s 4ms/step - loss: 6.9004 - mae: 6.9004\n",
            "Epoch 11/100\n",
            "1/1 [==============================] - 0s 5ms/step - loss: 7.1699 - mae: 7.1699\n",
            "Epoch 12/100\n",
            "1/1 [==============================] - 0s 5ms/step - loss: 7.3235 - mae: 7.3235\n",
            "Epoch 13/100\n",
            "1/1 [==============================] - 0s 6ms/step - loss: 7.3803 - mae: 7.3803\n",
            "Epoch 14/100\n",
            "1/1 [==============================] - 0s 6ms/step - loss: 7.3572 - mae: 7.3572\n",
            "Epoch 15/100\n",
            "1/1 [==============================] - 0s 6ms/step - loss: 7.2281 - mae: 7.2281\n",
            "Epoch 16/100\n",
            "1/1 [==============================] - 0s 6ms/step - loss: 7.0552 - mae: 7.0552\n",
            "Epoch 17/100\n",
            "1/1 [==============================] - 0s 6ms/step - loss: 6.8469 - mae: 6.8469\n",
            "Epoch 18/100\n",
            "1/1 [==============================] - 0s 13ms/step - loss: 6.6106 - mae: 6.6106\n",
            "Epoch 19/100\n",
            "1/1 [==============================] - 0s 5ms/step - loss: 6.3524 - mae: 6.3524\n",
            "Epoch 20/100\n",
            "1/1 [==============================] - 0s 7ms/step - loss: 6.2389 - mae: 6.2389\n",
            "Epoch 21/100\n",
            "1/1 [==============================] - 0s 6ms/step - loss: 6.1921 - mae: 6.1921\n",
            "Epoch 22/100\n",
            "1/1 [==============================] - 0s 6ms/step - loss: 6.2628 - mae: 6.2628\n",
            "Epoch 23/100\n",
            "1/1 [==============================] - 0s 5ms/step - loss: 6.3081 - mae: 6.3081\n",
            "Epoch 24/100\n",
            "1/1 [==============================] - 0s 4ms/step - loss: 6.2464 - mae: 6.2464\n",
            "Epoch 25/100\n",
            "1/1 [==============================] - 0s 7ms/step - loss: 6.0916 - mae: 6.0916\n",
            "Epoch 26/100\n",
            "1/1 [==============================] - 0s 7ms/step - loss: 5.8537 - mae: 5.8537\n",
            "Epoch 27/100\n",
            "1/1 [==============================] - 0s 5ms/step - loss: 5.7249 - mae: 5.7249\n",
            "Epoch 28/100\n",
            "1/1 [==============================] - 0s 6ms/step - loss: 5.6191 - mae: 5.6191\n",
            "Epoch 29/100\n",
            "1/1 [==============================] - 0s 5ms/step - loss: 5.5762 - mae: 5.5762\n",
            "Epoch 30/100\n",
            "1/1 [==============================] - 0s 6ms/step - loss: 5.5763 - mae: 5.5763\n",
            "Epoch 31/100\n",
            "1/1 [==============================] - 0s 8ms/step - loss: 5.5271 - mae: 5.5271\n",
            "Epoch 32/100\n",
            "1/1 [==============================] - 0s 7ms/step - loss: 5.4323 - mae: 5.4323\n",
            "Epoch 33/100\n",
            "1/1 [==============================] - 0s 6ms/step - loss: 5.2957 - mae: 5.2957\n",
            "Epoch 34/100\n",
            "1/1 [==============================] - 0s 10ms/step - loss: 5.1207 - mae: 5.1207\n",
            "Epoch 35/100\n",
            "1/1 [==============================] - 0s 6ms/step - loss: 4.9317 - mae: 4.9317\n",
            "Epoch 36/100\n",
            "1/1 [==============================] - 0s 7ms/step - loss: 4.8350 - mae: 4.8350\n",
            "Epoch 37/100\n",
            "1/1 [==============================] - 0s 4ms/step - loss: 4.7305 - mae: 4.7305\n",
            "Epoch 38/100\n",
            "1/1 [==============================] - 0s 5ms/step - loss: 4.6183 - mae: 4.6183\n",
            "Epoch 39/100\n",
            "1/1 [==============================] - 0s 13ms/step - loss: 4.5152 - mae: 4.5152\n",
            "Epoch 40/100\n",
            "1/1 [==============================] - 0s 13ms/step - loss: 4.3605 - mae: 4.3605\n",
            "Epoch 41/100\n",
            "1/1 [==============================] - 0s 19ms/step - loss: 4.2152 - mae: 4.2152\n",
            "Epoch 42/100\n",
            "1/1 [==============================] - 0s 7ms/step - loss: 4.0621 - mae: 4.0621\n",
            "Epoch 43/100\n",
            "1/1 [==============================] - 0s 9ms/step - loss: 3.9008 - mae: 3.9008\n",
            "Epoch 44/100\n",
            "1/1 [==============================] - 0s 12ms/step - loss: 3.7310 - mae: 3.7310\n",
            "Epoch 45/100\n",
            "1/1 [==============================] - 0s 5ms/step - loss: 3.5526 - mae: 3.5526\n",
            "Epoch 46/100\n",
            "1/1 [==============================] - 0s 5ms/step - loss: 3.4089 - mae: 3.4089\n",
            "Epoch 47/100\n",
            "1/1 [==============================] - 0s 5ms/step - loss: 3.2255 - mae: 3.2255\n",
            "Epoch 48/100\n",
            "1/1 [==============================] - 0s 6ms/step - loss: 2.9968 - mae: 2.9968\n",
            "Epoch 49/100\n",
            "1/1 [==============================] - 0s 6ms/step - loss: 2.8021 - mae: 2.8021\n",
            "Epoch 50/100\n",
            "1/1 [==============================] - 0s 36ms/step - loss: 2.5959 - mae: 2.5959\n",
            "Epoch 51/100\n",
            "1/1 [==============================] - 0s 12ms/step - loss: 2.3780 - mae: 2.3780\n",
            "Epoch 52/100\n",
            "1/1 [==============================] - 0s 6ms/step - loss: 2.1483 - mae: 2.1483\n",
            "Epoch 53/100\n",
            "1/1 [==============================] - 0s 5ms/step - loss: 1.9121 - mae: 1.9121\n",
            "Epoch 54/100\n",
            "1/1 [==============================] - 0s 7ms/step - loss: 1.6413 - mae: 1.6413\n",
            "Epoch 55/100\n",
            "1/1 [==============================] - 0s 5ms/step - loss: 1.5063 - mae: 1.5063\n",
            "Epoch 56/100\n",
            "1/1 [==============================] - 0s 6ms/step - loss: 1.3077 - mae: 1.3077\n",
            "Epoch 57/100\n",
            "1/1 [==============================] - 0s 6ms/step - loss: 0.8984 - mae: 0.8984\n",
            "Epoch 58/100\n",
            "1/1 [==============================] - 0s 8ms/step - loss: 0.6735 - mae: 0.6735\n",
            "Epoch 59/100\n",
            "1/1 [==============================] - 0s 7ms/step - loss: 0.4491 - mae: 0.4491\n",
            "Epoch 60/100\n",
            "1/1 [==============================] - 0s 7ms/step - loss: 0.1118 - mae: 0.1118\n",
            "Epoch 61/100\n",
            "1/1 [==============================] - 0s 8ms/step - loss: 0.6302 - mae: 0.6302\n",
            "Epoch 62/100\n",
            "1/1 [==============================] - 0s 9ms/step - loss: 0.9813 - mae: 0.9813\n",
            "Epoch 63/100\n",
            "1/1 [==============================] - 0s 9ms/step - loss: 1.0660 - mae: 1.0660\n",
            "Epoch 64/100\n",
            "1/1 [==============================] - 0s 8ms/step - loss: 0.9174 - mae: 0.9174\n",
            "Epoch 65/100\n",
            "1/1 [==============================] - 0s 8ms/step - loss: 0.7160 - mae: 0.7160\n",
            "Epoch 66/100\n",
            "1/1 [==============================] - 0s 14ms/step - loss: 0.9167 - mae: 0.9167\n",
            "Epoch 67/100\n",
            "1/1 [==============================] - 0s 6ms/step - loss: 0.8696 - mae: 0.8696\n",
            "Epoch 68/100\n",
            "1/1 [==============================] - 0s 16ms/step - loss: 0.5910 - mae: 0.5910\n",
            "Epoch 69/100\n",
            "1/1 [==============================] - 0s 11ms/step - loss: 0.5655 - mae: 0.5655\n",
            "Epoch 70/100\n",
            "1/1 [==============================] - 0s 9ms/step - loss: 0.5139 - mae: 0.5139\n",
            "Epoch 71/100\n",
            "1/1 [==============================] - 0s 10ms/step - loss: 0.2766 - mae: 0.2766\n",
            "Epoch 72/100\n",
            "1/1 [==============================] - 0s 12ms/step - loss: 0.1739 - mae: 0.1739\n",
            "Epoch 73/100\n",
            "1/1 [==============================] - 0s 8ms/step - loss: 0.2283 - mae: 0.2283\n",
            "Epoch 74/100\n",
            "1/1 [==============================] - 0s 5ms/step - loss: 0.3036 - mae: 0.3036\n",
            "Epoch 75/100\n",
            "1/1 [==============================] - 0s 5ms/step - loss: 0.3437 - mae: 0.3437\n",
            "Epoch 76/100\n",
            "1/1 [==============================] - 0s 10ms/step - loss: 0.4089 - mae: 0.4089\n",
            "Epoch 77/100\n",
            "1/1 [==============================] - 0s 5ms/step - loss: 0.4106 - mae: 0.4106\n",
            "Epoch 78/100\n",
            "1/1 [==============================] - 0s 10ms/step - loss: 0.3071 - mae: 0.3071\n",
            "Epoch 79/100\n",
            "1/1 [==============================] - 0s 12ms/step - loss: 0.2806 - mae: 0.2806\n",
            "Epoch 80/100\n",
            "1/1 [==============================] - 0s 16ms/step - loss: 0.1904 - mae: 0.1904\n",
            "Epoch 81/100\n",
            "1/1 [==============================] - 0s 5ms/step - loss: 0.0599 - mae: 0.0599\n",
            "Epoch 82/100\n",
            "1/1 [==============================] - 0s 8ms/step - loss: 0.2450 - mae: 0.2450\n",
            "Epoch 83/100\n",
            "1/1 [==============================] - 0s 6ms/step - loss: 0.2755 - mae: 0.2755\n",
            "Epoch 84/100\n",
            "1/1 [==============================] - 0s 7ms/step - loss: 0.2595 - mae: 0.2595\n",
            "Epoch 85/100\n",
            "1/1 [==============================] - 0s 11ms/step - loss: 0.2854 - mae: 0.2854\n",
            "Epoch 86/100\n",
            "1/1 [==============================] - 0s 5ms/step - loss: 0.3075 - mae: 0.3075\n",
            "Epoch 87/100\n",
            "1/1 [==============================] - 0s 7ms/step - loss: 0.2656 - mae: 0.2656\n",
            "Epoch 88/100\n",
            "1/1 [==============================] - 0s 4ms/step - loss: 0.1947 - mae: 0.1947\n",
            "Epoch 89/100\n",
            "1/1 [==============================] - 0s 6ms/step - loss: 0.1061 - mae: 0.1061\n",
            "Epoch 90/100\n",
            "1/1 [==============================] - 0s 9ms/step - loss: 0.2569 - mae: 0.2569\n",
            "Epoch 91/100\n",
            "1/1 [==============================] - 0s 7ms/step - loss: 0.2567 - mae: 0.2567\n",
            "Epoch 92/100\n",
            "1/1 [==============================] - 0s 12ms/step - loss: 0.2212 - mae: 0.2212\n",
            "Epoch 93/100\n",
            "1/1 [==============================] - 0s 13ms/step - loss: 0.2880 - mae: 0.2880\n",
            "Epoch 94/100\n",
            "1/1 [==============================] - 0s 8ms/step - loss: 0.1996 - mae: 0.1996\n",
            "Epoch 95/100\n",
            "1/1 [==============================] - 0s 8ms/step - loss: 0.2712 - mae: 0.2712\n",
            "Epoch 96/100\n",
            "1/1 [==============================] - 0s 5ms/step - loss: 0.2324 - mae: 0.2324\n",
            "Epoch 97/100\n",
            "1/1 [==============================] - 0s 10ms/step - loss: 0.0982 - mae: 0.0982\n",
            "Epoch 98/100\n",
            "1/1 [==============================] - 0s 5ms/step - loss: 0.0979 - mae: 0.0979\n",
            "Epoch 99/100\n",
            "1/1 [==============================] - 0s 4ms/step - loss: 0.2180 - mae: 0.2180\n",
            "Epoch 100/100\n",
            "1/1 [==============================] - 0s 9ms/step - loss: 0.2212 - mae: 0.2212\n"
          ],
          "name": "stdout"
        },
        {
          "output_type": "execute_result",
          "data": {
            "text/plain": [
              "<tensorflow.python.keras.callbacks.History at 0x7fb99cb86c90>"
            ]
          },
          "metadata": {
            "tags": []
          },
          "execution_count": 23
        }
      ]
    },
    {
      "cell_type": "code",
      "metadata": {
        "colab": {
          "base_uri": "https://localhost:8080/"
        },
        "id": "6aXpqStOlbgD",
        "outputId": "a632d8a3-4315-41b1-fe31-7fd4da806dba"
      },
      "source": [
        "# Predizer o valor de y utilizando o modelo\n",
        "model.predict([17.0])"
      ],
      "execution_count": null,
      "outputs": [
        {
          "output_type": "stream",
          "text": [
            "WARNING:tensorflow:5 out of the last 6 calls to <function Model.make_predict_function.<locals>.predict_function at 0x7fb99c267e60> triggered tf.function retracing. Tracing is expensive and the excessive number of tracings could be due to (1) creating @tf.function repeatedly in a loop, (2) passing tensors with different shapes, (3) passing Python objects instead of tensors. For (1), please define your @tf.function outside of the loop. For (2), @tf.function has experimental_relax_shapes=True option that relaxes argument shapes that can avoid unnecessary retracing. For (3), please refer to https://www.tensorflow.org/guide/function#controlling_retracing and https://www.tensorflow.org/api_docs/python/tf/function for  more details.\n"
          ],
          "name": "stdout"
        },
        {
          "output_type": "execute_result",
          "data": {
            "text/plain": [
              "array([[26.868332]], dtype=float32)"
            ]
          },
          "metadata": {
            "tags": []
          },
          "execution_count": 24
        }
      ]
    },
    {
      "cell_type": "markdown",
      "metadata": {
        "id": "Kf1Q0uECmaL_"
      },
      "source": [
        "## Validar a performance de um modelo\n",
        "\n",
        "Na prática, tipicamente quando se está desenvolvendo uma rede neural é:\n",
        "\n",
        "```\n",
        "Criar o modelo -> Preencha-o -> Valide-o -> Modifique o modelo -> Preencha-o -> Valide-o -> Modifique o modelo -> ...\n",
        "\n",
        "```\n",
        "\n",
        "**1. Hyperparâmetros** = Como esses paramêtros que passamos podem ser facilmente \n",
        "modificados para verificar como a rede neural se comporta, eles são chamados de hyperparâmetros.\n",
        "\n",
        "\n",
        "**2. Parâmetros:** São, geralmente, os padrões que a rede neural aprende, ou seja, não temos acesso direto e não codificamos, mas sim a própria rede neural faz isso sozinha.\n"
      ]
    },
    {
      "cell_type": "markdown",
      "metadata": {
        "id": "eylEUNjFmf9O"
      },
      "source": [
        "> \"A parte mais importante da validação do modelo é a visualização!!!!\"\n",
        "\n",
        "O que temos que visualizar:\n",
        "* **Os dados:** Que tipo de dados estamos lidando? Como ele se parece?\n",
        "* **O próprio modelo:** Como o nosso modelo se parece?\n",
        "* **O treinamento do modelo:** Como é o desempenho do modelo enquanto ele aprende?\n",
        "* **As predições do modelo:** Como as predições do modelo estão comparadas as esperadas?"
      ]
    },
    {
      "cell_type": "code",
      "metadata": {
        "colab": {
          "base_uri": "https://localhost:8080/"
        },
        "id": "ASJ--T9LoEdH",
        "outputId": "94d5ada4-05c5-4a01-b059-1acb6e15b5a7"
      },
      "source": [
        "# Criar um dataset maior\n",
        "X = tf.range(-100, 100, 4)\n",
        "X"
      ],
      "execution_count": null,
      "outputs": [
        {
          "output_type": "execute_result",
          "data": {
            "text/plain": [
              "<tf.Tensor: shape=(50,), dtype=int32, numpy=\n",
              "array([-100,  -96,  -92,  -88,  -84,  -80,  -76,  -72,  -68,  -64,  -60,\n",
              "        -56,  -52,  -48,  -44,  -40,  -36,  -32,  -28,  -24,  -20,  -16,\n",
              "        -12,   -8,   -4,    0,    4,    8,   12,   16,   20,   24,   28,\n",
              "         32,   36,   40,   44,   48,   52,   56,   60,   64,   68,   72,\n",
              "         76,   80,   84,   88,   92,   96], dtype=int32)>"
            ]
          },
          "metadata": {
            "tags": []
          },
          "execution_count": 25
        }
      ]
    },
    {
      "cell_type": "code",
      "metadata": {
        "colab": {
          "base_uri": "https://localhost:8080/"
        },
        "id": "m7pSbj2vpIzW",
        "outputId": "201c4b45-3a98-4f6b-b7d5-3cf6810b5ff3"
      },
      "source": [
        "# Criando as labels do dataset\n",
        "y = X + 10\n",
        "y"
      ],
      "execution_count": null,
      "outputs": [
        {
          "output_type": "execute_result",
          "data": {
            "text/plain": [
              "<tf.Tensor: shape=(50,), dtype=int32, numpy=\n",
              "array([-90, -86, -82, -78, -74, -70, -66, -62, -58, -54, -50, -46, -42,\n",
              "       -38, -34, -30, -26, -22, -18, -14, -10,  -6,  -2,   2,   6,  10,\n",
              "        14,  18,  22,  26,  30,  34,  38,  42,  46,  50,  54,  58,  62,\n",
              "        66,  70,  74,  78,  82,  86,  90,  94,  98, 102, 106], dtype=int32)>"
            ]
          },
          "metadata": {
            "tags": []
          },
          "execution_count": 26
        }
      ]
    },
    {
      "cell_type": "code",
      "metadata": {
        "colab": {
          "base_uri": "https://localhost:8080/",
          "height": 282
        },
        "id": "EpzMFqvcpPQe",
        "outputId": "d3563695-6239-4f24-b58d-506033c5e4a3"
      },
      "source": [
        "# Visualizar os dados\n",
        "import matplotlib.pyplot as plt\n",
        "\n",
        "plt.scatter(X,y)"
      ],
      "execution_count": null,
      "outputs": [
        {
          "output_type": "execute_result",
          "data": {
            "text/plain": [
              "<matplotlib.collections.PathCollection at 0x7fb99ba42dd0>"
            ]
          },
          "metadata": {
            "tags": []
          },
          "execution_count": 27
        },
        {
          "output_type": "display_data",
          "data": {
            "image/png": "[encoded data removed]",
            "text/plain": [
              "<Figure size 432x288 with 1 Axes>"
            ]
          },
          "metadata": {
            "tags": [],
            "needs_background": "light"
          }
        }
      ]
    },
    {
      "cell_type": "markdown",
      "metadata": {
        "id": "cNP06SFhpbaG"
      },
      "source": [
        "### Os três conjuntos... \n",
        "\n",
        "* **O conjunto de treinamento:** O modelo aprende desses dados. Tipicamente 70-80% do total dos dados disponíveis.\n",
        "* **O conjunto de validação:** O modelo é ajustado a partir desses dados. Tipicamente 10-15% dos dados disponíveis.\n",
        "* **O conjunto de testes:** O modelo é avaliado a partir desses dados, para testar o que ele aprendeu. Tipicamente 10-15% dos dados disponíveis.\n"
      ]
    },
    {
      "cell_type": "code",
      "metadata": {
        "colab": {
          "base_uri": "https://localhost:8080/"
        },
        "id": "8iKteRinpuKY",
        "outputId": "d67dc5fd-abbd-4e87-dcf3-e8369e731407"
      },
      "source": [
        "# Checar o comprimento das nossas amostras\n",
        "len(X)"
      ],
      "execution_count": null,
      "outputs": [
        {
          "output_type": "execute_result",
          "data": {
            "text/plain": [
              "50"
            ]
          },
          "metadata": {
            "tags": []
          },
          "execution_count": 28
        }
      ]
    },
    {
      "cell_type": "code",
      "metadata": {
        "colab": {
          "base_uri": "https://localhost:8080/"
        },
        "id": "iQPkoCq5rO1o",
        "outputId": "dae722ef-1096-48c8-c95d-cbe4c1f71453"
      },
      "source": [
        "# Separar os dados em treino e teste\n",
        "X_treino = X[:40] #As primeiras 40 amostras dos dados. (80%)\n",
        "y_treino = y[:40]\n",
        "\n",
        "X_teste = X[40:] #As ultimas 10 amostras dos dados. (20%)\n",
        "y_teste = y[40:]\n",
        "\n",
        "len(X_treino), len(X_teste), len(y_treino), len(y_teste)"
      ],
      "execution_count": null,
      "outputs": [
        {
          "output_type": "execute_result",
          "data": {
            "text/plain": [
              "(40, 10, 40, 10)"
            ]
          },
          "metadata": {
            "tags": []
          },
          "execution_count": 29
        }
      ]
    },
    {
      "cell_type": "code",
      "metadata": {
        "colab": {
          "base_uri": "https://localhost:8080/",
          "height": 428
        },
        "id": "HPVcS-GnrW5m",
        "outputId": "a96ad207-2ea1-49a5-c903-12b92fef6360"
      },
      "source": [
        "# Visualizando os dados\n",
        "plt.figure(figsize=(10,7))\n",
        "\n",
        "#Plota o gráfico dos dados de treino na tela em azul\n",
        "plt.scatter(X_treino, y_treino, c=\"b\", label=\"Dados de treinamento\")\n",
        "\n",
        "#Plotar os dados de teste em vermelho\n",
        "plt.scatter(X_teste, y_teste, c=\"g\", label=\"Dados de teste\")\n",
        "\n",
        "#Configura a legenda\n",
        "plt.legend();"
      ],
      "execution_count": null,
      "outputs": [
        {
          "output_type": "display_data",
          "data": {
            "image/png": "[encoded data removed]",
            "text/plain": [
              "<Figure size 720x504 with 1 Axes>"
            ]
          },
          "metadata": {
            "tags": [],
            "needs_background": "light"
          }
        }
      ]
    },
    {
      "cell_type": "code",
      "metadata": {
        "id": "yvQGOaN4rWCd"
      },
      "source": [
        "# Criando uma rede neural para os nossos novos dados\n",
        "\n",
        "# Criar o modelo\n",
        "model = tf.keras.Sequential([\n",
        "  tf.keras.layers.Dense(1)\n",
        "])\n",
        "\n",
        "# Compilar o modelo\n",
        "model.compile(loss=tf.keras.losses.mae,\n",
        "              optimizer = tf.keras.optimizers.SGD(),\n",
        "              metrics = [\"mae\"])\n",
        "\n",
        "# Preencher o modelo\n",
        "# model.fit(X_treino, y_treino, epochs=100)"
      ],
      "execution_count": null,
      "outputs": []
    },
    {
      "cell_type": "code",
      "metadata": {
        "id": "r5oQgUlSt2W1",
        "colab": {
          "base_uri": "https://localhost:8080/",
          "height": 333
        },
        "outputId": "54484c47-555c-4c04-edbb-343f9e8bc601"
      },
      "source": [
        "# Visualizar o modelo\n",
        "\n",
        "model.summary()"
      ],
      "execution_count": null,
      "outputs": [
        {
          "output_type": "error",
          "ename": "ValueError",
          "evalue": "ignored",
          "traceback": [
            "\u001b[0;31m---------------------------------------------------------------------------\u001b[0m",
            "\u001b[0;31mValueError\u001b[0m                                Traceback (most recent call last)",
            "\u001b[0;32m<ipython-input-33-020a5af667f5>\u001b[0m in \u001b[0;36m<module>\u001b[0;34m()\u001b[0m\n\u001b[1;32m      1\u001b[0m \u001b[0;31m# Visualizar o modelo\u001b[0m\u001b[0;34m\u001b[0m\u001b[0;34m\u001b[0m\u001b[0;34m\u001b[0m\u001b[0m\n\u001b[1;32m      2\u001b[0m \u001b[0;34m\u001b[0m\u001b[0m\n\u001b[0;32m----> 3\u001b[0;31m \u001b[0mmodel\u001b[0m\u001b[0;34m.\u001b[0m\u001b[0msummary\u001b[0m\u001b[0;34m(\u001b[0m\u001b[0;34m)\u001b[0m\u001b[0;34m\u001b[0m\u001b[0;34m\u001b[0m\u001b[0m\n\u001b[0m",
            "\u001b[0;32m/usr/local/lib/python3.7/dist-packages/tensorflow/python/keras/engine/training.py\u001b[0m in \u001b[0;36msummary\u001b[0;34m(self, line_length, positions, print_fn)\u001b[0m\n\u001b[1;32m   2475\u001b[0m     \"\"\"\n\u001b[1;32m   2476\u001b[0m     \u001b[0;32mif\u001b[0m \u001b[0;32mnot\u001b[0m \u001b[0mself\u001b[0m\u001b[0;34m.\u001b[0m\u001b[0mbuilt\u001b[0m\u001b[0;34m:\u001b[0m\u001b[0;34m\u001b[0m\u001b[0;34m\u001b[0m\u001b[0m\n\u001b[0;32m-> 2477\u001b[0;31m       raise ValueError('This model has not yet been built. '\n\u001b[0m\u001b[1;32m   2478\u001b[0m                        \u001b[0;34m'Build the model first by calling `build()` or calling '\u001b[0m\u001b[0;34m\u001b[0m\u001b[0;34m\u001b[0m\u001b[0m\n\u001b[1;32m   2479\u001b[0m                        \u001b[0;34m'`fit()` with some data, or specify '\u001b[0m\u001b[0;34m\u001b[0m\u001b[0;34m\u001b[0m\u001b[0m\n",
            "\u001b[0;31mValueError\u001b[0m: This model has not yet been built. Build the model first by calling `build()` or calling `fit()` with some data, or specify an `input_shape` argument in the first layer(s) for automatic build."
          ]
        }
      ]
    },
    {
      "cell_type": "code",
      "metadata": {
        "id": "m5Q7kBdXvQzf",
        "colab": {
          "base_uri": "https://localhost:8080/"
        },
        "outputId": "1ce059bc-6fea-4ab8-d27f-fbd5c54429c0"
      },
      "source": [
        "X[0], y[0]"
      ],
      "execution_count": null,
      "outputs": [
        {
          "output_type": "execute_result",
          "data": {
            "text/plain": [
              "(<tf.Tensor: shape=(), dtype=int32, numpy=-100>,\n",
              " <tf.Tensor: shape=(), dtype=int32, numpy=-90>)"
            ]
          },
          "metadata": {
            "tags": []
          },
          "execution_count": 34
        }
      ]
    },
    {
      "cell_type": "code",
      "metadata": {
        "id": "26wqxufVuqHx"
      },
      "source": [
        "# Criando um modelo se constroi automaticamente definindo o argumento \"input_shape\" na primeira camada\n",
        "tf.random.set_seed(42)\n",
        "\n",
        "# Criando o modelo\n",
        "model = tf.keras.Sequential([\n",
        "  tf.keras.layers.Dense(1, input_shape=[1]) #Input_shape de um porque passamos apenas 1 valor para tentar predizer 1 valor\n",
        "])\n",
        "\n",
        "# Compilar o modelo\n",
        "model.compile(loss=tf.keras.losses.mae,\n",
        "              optimizer = tf.keras.optimizers.SGD(),\n",
        "              metrics = [\"mae\"])\n"
      ],
      "execution_count": null,
      "outputs": []
    },
    {
      "cell_type": "code",
      "metadata": {
        "colab": {
          "base_uri": "https://localhost:8080/"
        },
        "id": "Yr7A5YqUvt6R",
        "outputId": "183bcb4c-e0f1-4659-9f13-f6c52377e2d1"
      },
      "source": [
        "model.summary()"
      ],
      "execution_count": null,
      "outputs": [
        {
          "output_type": "stream",
          "text": [
            "Model: \"sequential_6\"\n",
            "_________________________________________________________________\n",
            "Layer (type)                 Output Shape              Param #   \n",
            "=================================================================\n",
            "dense_9 (Dense)              (None, 1)                 2         \n",
            "=================================================================\n",
            "Total params: 2\n",
            "Trainable params: 2\n",
            "Non-trainable params: 0\n",
            "_________________________________________________________________\n"
          ],
          "name": "stdout"
        }
      ]
    },
    {
      "cell_type": "markdown",
      "metadata": {
        "id": "mOEZI_ucwfAk"
      },
      "source": [
        "* **Total params:** Número total de parâmetros no modelo.\n",
        "* **Trainable params:** Os parâmetros (padrões) que o modelo pode melhorar enquanto treina.\n",
        "* **Non-trainable params:** Os parâmetros não são melhorados enquanto treina (eles existem, tipicamente, quando você trás padrões já aprendidos ou parâmetros de outros modelos durante o processo de **transfer learning**)\n",
        "\n",
        "[MIT](http://introtodeeplearning.com/)"
      ]
    },
    {
      "cell_type": "code",
      "metadata": {
        "id": "L-cRWYJrwYZ5",
        "colab": {
          "base_uri": "https://localhost:8080/"
        },
        "outputId": "eecad898-1beb-49d3-8b59-adf1975811aa"
      },
      "source": [
        "# Preencher o modelo\n",
        "model.fit(X_treino, y_treino, epochs=100, verbose=0) #Pesquisar o parâmetro verbose na documentação do tensorflow"
      ],
      "execution_count": null,
      "outputs": [
        {
          "output_type": "execute_result",
          "data": {
            "text/plain": [
              "<tensorflow.python.keras.callbacks.History at 0x7fb9a2521c90>"
            ]
          },
          "metadata": {
            "tags": []
          },
          "execution_count": 37
        }
      ]
    },
    {
      "cell_type": "code",
      "metadata": {
        "colab": {
          "base_uri": "https://localhost:8080/"
        },
        "id": "EY3qas77j3U_",
        "outputId": "3298f3a4-9ecd-436c-b756-f99742168839"
      },
      "source": [
        "model.summary()"
      ],
      "execution_count": null,
      "outputs": [
        {
          "output_type": "stream",
          "text": [
            "Model: \"sequential_6\"\n",
            "_________________________________________________________________\n",
            "Layer (type)                 Output Shape              Param #   \n",
            "=================================================================\n",
            "dense_9 (Dense)              (None, 1)                 2         \n",
            "=================================================================\n",
            "Total params: 2\n",
            "Trainable params: 2\n",
            "Non-trainable params: 0\n",
            "_________________________________________________________________\n"
          ],
          "name": "stdout"
        }
      ]
    },
    {
      "cell_type": "code",
      "metadata": {
        "colab": {
          "base_uri": "https://localhost:8080/",
          "height": 201
        },
        "id": "dFc3eDkTlTZC",
        "outputId": "f06a2a6d-4f0b-4ee5-907f-e397c68b1080"
      },
      "source": [
        "from tensorflow.keras.utils import plot_model\n",
        "\n",
        "plot_model(model, show_shapes=True)"
      ],
      "execution_count": null,
      "outputs": [
        {
          "output_type": "execute_result",
          "data": {
            "image/png": "[encoded data removed]",
            "text/plain": [
              "<IPython.core.display.Image object>"
            ]
          },
          "metadata": {
            "tags": []
          },
          "execution_count": 39
        }
      ]
    },
    {
      "cell_type": "code",
      "metadata": {
        "id": "UHOz6jgrl_mX"
      },
      "source": [
        "# Modificando dados do nosso modelo\n",
        "\n",
        "# Criando um modelo se constroi automaticamente definindo o argumento \"input_shape\" na primeira camada\n",
        "tf.random.set_seed(42)\n",
        "\n",
        "# Criando o modelo\n",
        "model = tf.keras.Sequential([\n",
        "  tf.keras.layers.Dense(1, input_shape=[1], name=\"camada_entrada\"),\n",
        "  tf.keras.layers.Dense(1, name=\"camada_saida\") #Input_shape de um porque passamos apenas 1 valor para tentar predizer 1 valor\n",
        "], name = \"modelo_teste\")\n",
        "\n",
        "# Compilar o modelo\n",
        "model.compile(loss=tf.keras.losses.mae,\n",
        "              optimizer = tf.keras.optimizers.SGD(),\n",
        "              metrics = [\"mae\"])"
      ],
      "execution_count": null,
      "outputs": []
    },
    {
      "cell_type": "code",
      "metadata": {
        "colab": {
          "base_uri": "https://localhost:8080/"
        },
        "id": "TFIcrhehmTeF",
        "outputId": "151fb525-4af2-4567-f667-d0d0c1009f4b"
      },
      "source": [
        "model.summary()"
      ],
      "execution_count": null,
      "outputs": [
        {
          "output_type": "stream",
          "text": [
            "Model: \"modelo_teste\"\n",
            "_________________________________________________________________\n",
            "Layer (type)                 Output Shape              Param #   \n",
            "=================================================================\n",
            "camada_entrada (Dense)       (None, 1)                 2         \n",
            "_________________________________________________________________\n",
            "camada_saida (Dense)         (None, 1)                 2         \n",
            "=================================================================\n",
            "Total params: 4\n",
            "Trainable params: 4\n",
            "Non-trainable params: 0\n",
            "_________________________________________________________________\n"
          ],
          "name": "stdout"
        }
      ]
    },
    {
      "cell_type": "code",
      "metadata": {
        "colab": {
          "base_uri": "https://localhost:8080/"
        },
        "id": "7CUe4Uj9mwsG",
        "outputId": "606593d9-5453-424b-e69e-9399adc4fbce"
      },
      "source": [
        "# Preencher o modelo\n",
        "model.fit(X_treino, y_treino, epochs=100, verbose=0) #Pesquisar o parâmetro verbose na documentação do tensorflow"
      ],
      "execution_count": null,
      "outputs": [
        {
          "output_type": "execute_result",
          "data": {
            "text/plain": [
              "<tensorflow.python.keras.callbacks.History at 0x7fb9a24d4290>"
            ]
          },
          "metadata": {
            "tags": []
          },
          "execution_count": 42
        }
      ]
    },
    {
      "cell_type": "code",
      "metadata": {
        "colab": {
          "base_uri": "https://localhost:8080/",
          "height": 312
        },
        "id": "gpQt6z3jm4uW",
        "outputId": "bc73d8ca-3a99-4a3e-a400-a8a0f271c43c"
      },
      "source": [
        "plot_model(model, show_shapes=True)"
      ],
      "execution_count": null,
      "outputs": [
        {
          "output_type": "execute_result",
          "data": {
            "image/png": "[encoded data removed]",
            "text/plain": [
              "<IPython.core.display.Image object>"
            ]
          },
          "metadata": {
            "tags": []
          },
          "execution_count": 43
        }
      ]
    },
    {
      "cell_type": "markdown",
      "metadata": {
        "id": "61O2bua0rCwE"
      },
      "source": [
        "**TERMINA O SEGUNDO DIA**"
      ]
    },
    {
      "cell_type": "markdown",
      "metadata": {
        "id": "hSDdzHysnDak"
      },
      "source": [
        "### Visualizando as predições do nosso modelo\n",
        "\n",
        "Para visualizar predições, é uma boa ideia as plotar em comparação as predições esperadas. \n",
        "\n",
        "Tipicamente, você verá isso na forma de `y_test` ou `y_true` vs `y_pred` (predição esperada versus as predições obtidas)."
      ]
    },
    {
      "cell_type": "code",
      "metadata": {
        "colab": {
          "base_uri": "https://localhost:8080/"
        },
        "id": "e_7aVfgFnnTw",
        "outputId": "90d55d58-d665-42a1-df2e-112820780885"
      },
      "source": [
        "# Vamos fazer algumas predições\n",
        "pred = model.predict(X_teste)\n",
        "pred"
      ],
      "execution_count": null,
      "outputs": [
        {
          "output_type": "stream",
          "text": [
            "WARNING:tensorflow:6 out of the last 7 calls to <function Model.make_predict_function.<locals>.predict_function at 0x7fb99d41f170> triggered tf.function retracing. Tracing is expensive and the excessive number of tracings could be due to (1) creating @tf.function repeatedly in a loop, (2) passing tensors with different shapes, (3) passing Python objects instead of tensors. For (1), please define your @tf.function outside of the loop. For (2), @tf.function has experimental_relax_shapes=True option that relaxes argument shapes that can avoid unnecessary retracing. For (3), please refer to https://www.tensorflow.org/guide/function#controlling_retracing and https://www.tensorflow.org/api_docs/python/tf/function for  more details.\n"
          ],
          "name": "stdout"
        },
        {
          "output_type": "execute_result",
          "data": {
            "text/plain": [
              "array([[ 69.4672  ],\n",
              "       [ 73.985695],\n",
              "       [ 78.50417 ],\n",
              "       [ 83.02267 ],\n",
              "       [ 87.541145],\n",
              "       [ 92.05964 ],\n",
              "       [ 96.57812 ],\n",
              "       [101.0966  ],\n",
              "       [105.61509 ],\n",
              "       [110.133575]], dtype=float32)"
            ]
          },
          "metadata": {
            "tags": []
          },
          "execution_count": 44
        }
      ]
    },
    {
      "cell_type": "code",
      "metadata": {
        "colab": {
          "base_uri": "https://localhost:8080/"
        },
        "id": "lcKmAV6En1wi",
        "outputId": "b7b013a7-075d-4c34-9562-eff12db06691"
      },
      "source": [
        "y_teste"
      ],
      "execution_count": null,
      "outputs": [
        {
          "output_type": "execute_result",
          "data": {
            "text/plain": [
              "<tf.Tensor: shape=(10,), dtype=int32, numpy=array([ 70,  74,  78,  82,  86,  90,  94,  98, 102, 106], dtype=int32)>"
            ]
          },
          "metadata": {
            "tags": []
          },
          "execution_count": 45
        }
      ]
    },
    {
      "cell_type": "code",
      "metadata": {
        "id": "_h21ipvqn7tE"
      },
      "source": [
        "# Vamos criar uma função de plotagem\n",
        "def mostra_predicoes(dado_treino=X_treino,\n",
        "                     labels_treino=y_treino,\n",
        "                     dado_teste=X_teste,\n",
        "                     labels_teste=y_teste,\n",
        "                     predicoes=pred):\n",
        "  \"\"\"\n",
        "    Plota os dados de treino e teste, e compara com as predições realizadas pelo modelo\n",
        "  \"\"\"\n",
        "  plt.figure(figsize=(10,7))\n",
        "  #Plota os dados de treino em azul\n",
        "  plt.scatter(dado_treino, labels_treino, c=\"b\", label=\"Dados de treino\")\n",
        "  #Plota os dados de teste em verde\n",
        "  plt.scatter(dado_teste, labels_teste, c=\"g\", label=\"Dados de teste\")\n",
        "  #Plota as predições do modelo em vermelho\n",
        "  plt.scatter(dado_teste, pred, c=\"r\", label=\"Predições\")\n",
        "  plt.legend();"
      ],
      "execution_count": null,
      "outputs": []
    },
    {
      "cell_type": "code",
      "metadata": {
        "colab": {
          "base_uri": "https://localhost:8080/",
          "height": 428
        },
        "id": "GP-5Vs1XpY6P",
        "outputId": "91e4791e-a883-44ef-8775-fd5d9fef7484"
      },
      "source": [
        " mostra_predicoes()"
      ],
      "execution_count": null,
      "outputs": [
        {
          "output_type": "display_data",
          "data": {
            "image/png": "[encoded data removed]",
            "text/plain": [
              "<Figure size 720x504 with 1 Axes>"
            ]
          },
          "metadata": {
            "tags": [],
            "needs_background": "light"
          }
        }
      ]
    },
    {
      "cell_type": "markdown",
      "metadata": {
        "id": "DIw5dZHKphBL"
      },
      "source": [
        "### Métricas de avaliação\n",
        "\n",
        "Dependendo do problema que você está enfrentando, haverá diferentes métricas de avaliação para avaliar a performance do seu modelo. \n",
        "\n",
        "Como estamos trabalhando com um problema de regressão, duas das principais formas de avaliação são:\n",
        "\n",
        "* **MAE - Mean absolute error (Erro médio absoluto):** \"Em média, o quão erradas estão cada uma das predições do meu modelo\". **É uma boa métrica \"inicial\" para qualquer problema de regressão.**\n",
        "\n",
        "* **MSE  - Mean square error (Erro quadrático médio):** \"Semelhante a outra, mas ele devolve o quadrado do erro médio\". **É comum utilizar quando grandes erros são mais importantes do que erros menores.**\n",
        "\n",
        "* **Huber** - É uma convenção das outras duas, ou seja, uma métrica mais robusta. Menos sensível a \"outliers\" do que o `MSE`."
      ]
    },
    {
      "cell_type": "code",
      "metadata": {
        "colab": {
          "base_uri": "https://localhost:8080/"
        },
        "id": "Su5HGu67qdqF",
        "outputId": "42c16e6e-67f0-40c6-f1f2-70dfb5e57cb5"
      },
      "source": [
        "# Validando nosso modelo com uma métrica\n",
        "model.evaluate(X_teste, y_teste, )"
      ],
      "execution_count": null,
      "outputs": [
        {
          "output_type": "stream",
          "text": [
            "1/1 [==============================] - 0s 150ms/step - loss: 1.9098 - mae: 1.9098\n"
          ],
          "name": "stdout"
        },
        {
          "output_type": "execute_result",
          "data": {
            "text/plain": [
              "[1.9098113775253296, 1.9098113775253296]"
            ]
          },
          "metadata": {
            "tags": []
          },
          "execution_count": 48
        }
      ]
    },
    {
      "cell_type": "code",
      "metadata": {
        "colab": {
          "base_uri": "https://localhost:8080/"
        },
        "id": "5i26Qtdbuq_2",
        "outputId": "94d3442f-3b1a-4312-ce26-ca96372da591"
      },
      "source": [
        "# Calcular o erro médio absoluto\n",
        "mae = tf.metrics.mean_absolute_error(y_true=y_teste, \n",
        "                                     y_pred=tf.constant(pred))\n",
        "mae"
      ],
      "execution_count": null,
      "outputs": [
        {
          "output_type": "execute_result",
          "data": {
            "text/plain": [
              "<tf.Tensor: shape=(10,), dtype=float32, numpy=\n",
              "array([18.532799, 14.811444, 12.198331, 10.595467, 10.      , 10.411928,\n",
              "       11.831247, 14.257962, 17.692072, 22.133575], dtype=float32)>"
            ]
          },
          "metadata": {
            "tags": []
          },
          "execution_count": 49
        }
      ]
    },
    {
      "cell_type": "code",
      "metadata": {
        "colab": {
          "base_uri": "https://localhost:8080/"
        },
        "id": "r091xNI2zCOP",
        "outputId": "923dc1a7-f9ef-4b14-9d3f-061f30a433bd"
      },
      "source": [
        "# Vamos verificar como são realmente esses dois tensores\n",
        "pred, y_teste"
      ],
      "execution_count": null,
      "outputs": [
        {
          "output_type": "execute_result",
          "data": {
            "text/plain": [
              "(array([[ 69.4672  ],\n",
              "        [ 73.985695],\n",
              "        [ 78.50417 ],\n",
              "        [ 83.02267 ],\n",
              "        [ 87.541145],\n",
              "        [ 92.05964 ],\n",
              "        [ 96.57812 ],\n",
              "        [101.0966  ],\n",
              "        [105.61509 ],\n",
              "        [110.133575]], dtype=float32),\n",
              " <tf.Tensor: shape=(10,), dtype=int32, numpy=array([ 70,  74,  78,  82,  86,  90,  94,  98, 102, 106], dtype=int32)>)"
            ]
          },
          "metadata": {
            "tags": []
          },
          "execution_count": 50
        }
      ]
    },
    {
      "cell_type": "code",
      "metadata": {
        "colab": {
          "base_uri": "https://localhost:8080/"
        },
        "id": "w9lkqiT5wM11",
        "outputId": "2b4fc980-6dde-4b53-e645-c5a78293d19c"
      },
      "source": [
        "# Os valores sairam diferente do esperado, vamos verificar a dimensão dos dois tensores\n",
        "pred.ndim, y_teste.ndim"
      ],
      "execution_count": null,
      "outputs": [
        {
          "output_type": "execute_result",
          "data": {
            "text/plain": [
              "(2, 1)"
            ]
          },
          "metadata": {
            "tags": []
          },
          "execution_count": 51
        }
      ]
    },
    {
      "cell_type": "code",
      "metadata": {
        "colab": {
          "base_uri": "https://localhost:8080/"
        },
        "id": "3hyu6xgtv0oP",
        "outputId": "a012f684-1c01-4d98-8bf4-e63e5f0eb4db"
      },
      "source": [
        "# Retirando as dimensões unitárias do tensor com a função \"squeeze\"\n",
        "tf.squeeze(pred)"
      ],
      "execution_count": null,
      "outputs": [
        {
          "output_type": "execute_result",
          "data": {
            "text/plain": [
              "<tf.Tensor: shape=(10,), dtype=float32, numpy=\n",
              "array([ 69.4672  ,  73.985695,  78.50417 ,  83.02267 ,  87.541145,\n",
              "        92.05964 ,  96.57812 , 101.0966  , 105.61509 , 110.133575],\n",
              "      dtype=float32)>"
            ]
          },
          "metadata": {
            "tags": []
          },
          "execution_count": 52
        }
      ]
    },
    {
      "cell_type": "code",
      "metadata": {
        "colab": {
          "base_uri": "https://localhost:8080/"
        },
        "id": "Ps2z2CmOv87y",
        "outputId": "90b62c9d-b4fc-404f-d429-1265af79f3ce"
      },
      "source": [
        "# Calcular o erro médio absoluto novamente, agora redimensionando o tensor\n",
        "mae = tf.metrics.mean_absolute_error(y_true=y_teste, \n",
        "                                     y_pred=tf.squeeze(pred))\n",
        "mae"
      ],
      "execution_count": null,
      "outputs": [
        {
          "output_type": "execute_result",
          "data": {
            "text/plain": [
              "<tf.Tensor: shape=(), dtype=float32, numpy=1.9098114>"
            ]
          },
          "metadata": {
            "tags": []
          },
          "execution_count": 53
        }
      ]
    },
    {
      "cell_type": "code",
      "metadata": {
        "id": "Gdabu3s4wS1i",
        "colab": {
          "base_uri": "https://localhost:8080/"
        },
        "outputId": "ef684130-cdd4-498e-fb3b-258f68144bb8"
      },
      "source": [
        "# Calcular o erro quadrático médio\n",
        "mse = tf.metrics.mean_squared_error(y_true=y_teste,\n",
        "                                    y_pred=tf.squeeze(pred))\n",
        "mse\n"
      ],
      "execution_count": null,
      "outputs": [
        {
          "output_type": "execute_result",
          "data": {
            "text/plain": [
              "<tf.Tensor: shape=(), dtype=float32, numpy=5.459232>"
            ]
          },
          "metadata": {
            "tags": []
          },
          "execution_count": 54
        }
      ]
    },
    {
      "cell_type": "code",
      "metadata": {
        "id": "9UzoBQtkMMVf"
      },
      "source": [
        "# Criar funções para reutilizar os métodos de avaliação\n",
        "def mae(y_true, y_pred):\n",
        "  return tf.metrics.mean_absolute_error(y_true=y_teste,\n",
        "                                        y_pred=tf.squeeze(y_pred))\n",
        "  \n",
        "def mse(y_true, y_pred):\n",
        "  return tf.metrics.mean_squared_error(y_true=y_teste,\n",
        "                                       y_pred=tf.squeeze(y_pred))"
      ],
      "execution_count": null,
      "outputs": []
    },
    {
      "cell_type": "markdown",
      "metadata": {
        "id": "NrgjxaHrIMvg"
      },
      "source": [
        "### Rodando experimentos para melhorar nosso modelo\n",
        "\n",
        "\n",
        "> ```Criar o modelo -> Preencha-o -> Valide-o -> Modifique o modelo -> Preencha-o -> Valide-o -> . . .```\n",
        "\n",
        "1. Tenha mais dados - Obtenha mais dados para treinar seu modelo (mais oportunidades para aprender padrões ou relações entre conteúdo e rótulo).\n",
        "\n",
        "2. Faça seu modelo maior (usar um modelo mais complexo) - Isso pode vir como mais camadas ou mais unidades em cada camada.\n",
        "\n",
        "3. Treine por mais tempo - Dê ao seu modelo mais chances de observar os padrões entre os dados.\n",
        "\n",
        "Vamos fazer três tipos de experimentos:\n",
        "\n",
        "1. `model_1` - O mesmo modelo original, 1 camada, mas treinar por 100 epochs.\n",
        "2. `model_2` - Duas camadas, treinadas por 100 epochs.\n",
        "3. `model_3` - Duas camadas, treinar por 500 epochs.\n"
      ]
    },
    {
      "cell_type": "markdown",
      "metadata": {
        "id": "wmv0N-LiJ1xH"
      },
      "source": [
        "**Criando modelo 1**"
      ]
    },
    {
      "cell_type": "code",
      "metadata": {
        "id": "l6_m7GlWVcgZ"
      },
      "source": [
        "# Set random seed\n",
        "tf.random.set_seed(42)\n",
        "\n",
        "# 1. Criar o modelo\n",
        "model_1 = tf.keras.Sequential([\n",
        "  tf.keras.layers.Dense(1)\n",
        "])\n",
        "\n",
        "# Compilar o modelo\n",
        "model_1.compile(loss=tf.keras.losses.mae,\n",
        "              optimizer = tf.keras.optimizers.SGD(),\n",
        "              metrics = [\"mae\"])\n",
        "\n",
        "# Preencher o modelo\n",
        "model_1.fit(X_treino, y_treino, epochs=100)"
      ],
      "execution_count": null,
      "outputs": []
    },
    {
      "cell_type": "code",
      "metadata": {
        "colab": {
          "base_uri": "https://localhost:8080/",
          "height": 428
        },
        "id": "bG-_6reMKWo4",
        "outputId": "65f3748f-fe44-4c43-c2f4-ce8a94fea469"
      },
      "source": [
        "# Fazendo algumas predições\n",
        "y_pred_1 = model_1.predict(X_teste)\n",
        "mostra_predicoes(predicoes=y_pred_1)"
      ],
      "execution_count": null,
      "outputs": [
        {
          "output_type": "display_data",
          "data": {
            "image/png": "[encoded data removed]",
            "text/plain": [
              "<Figure size 720x504 with 1 Axes>"
            ]
          },
          "metadata": {
            "tags": [],
            "needs_background": "light"
          }
        }
      ]
    },
    {
      "cell_type": "code",
      "metadata": {
        "id": "yA6qtnWKMCHt",
        "colab": {
          "base_uri": "https://localhost:8080/"
        },
        "outputId": "3b4c7388-2698-4592-b329-05d870a3a546"
      },
      "source": [
        "# Calcular utilizando os métodos de avaliação\n",
        "mae_1 = mae(y_teste, y_pred_1)\n",
        "mse_1 = mse(y_teste, y_pred_1)\n",
        "mae_1, mse_1"
      ],
      "execution_count": null,
      "outputs": [
        {
          "output_type": "execute_result",
          "data": {
            "text/plain": [
              "(<tf.Tensor: shape=(), dtype=float32, numpy=18.745327>,\n",
              " <tf.Tensor: shape=(), dtype=float32, numpy=353.57336>)"
            ]
          },
          "metadata": {
            "tags": []
          },
          "execution_count": 58
        }
      ]
    },
    {
      "cell_type": "markdown",
      "metadata": {
        "id": "hGA1M5VHOHFi"
      },
      "source": [
        "**Criando modelo 2**\n",
        "\n",
        "* Duas camadas, 100 epochs"
      ]
    },
    {
      "cell_type": "code",
      "metadata": {
        "colab": {
          "base_uri": "https://localhost:8080/"
        },
        "id": "xDJRfHaxOIpX",
        "outputId": "8937842f-8f43-4ee7-9986-285c990f1ece"
      },
      "source": [
        "# Set random seed\n",
        "tf.random.set_seed(42)\n",
        "\n",
        "# Criando modelo\n",
        "model_2 = tf.keras.Sequential([\n",
        "  tf.keras.layers.Dense(10),\n",
        "  tf.keras.layers.Dense(1)\n",
        "])\n",
        "\n",
        "# Compilar o modelo\n",
        "model_2.compile(loss=tf.keras.losses.mae,\n",
        "                optimizer=tf.keras.optimizers.SGD(),\n",
        "                metrics=[\"mae\"])\n",
        "\n",
        "# Preencher o modelo\n",
        "model_2.fit(X_treino,y_treino, epochs=100)"
      ],
      "execution_count": null,
      "outputs": [
        {
          "output_type": "stream",
          "text": [
            "Epoch 1/100\n",
            "2/2 [==============================] - 0s 7ms/step - loss: 27.4058 - mae: 27.4058\n",
            "Epoch 2/100\n",
            "2/2 [==============================] - 0s 5ms/step - loss: 24.6339 - mae: 24.6339\n",
            "Epoch 3/100\n",
            "2/2 [==============================] - 0s 7ms/step - loss: 29.8935 - mae: 29.8935\n",
            "Epoch 4/100\n",
            "2/2 [==============================] - 0s 7ms/step - loss: 27.4055 - mae: 27.4055\n",
            "Epoch 5/100\n",
            "2/2 [==============================] - 0s 7ms/step - loss: 14.9463 - mae: 14.9463\n",
            "Epoch 6/100\n",
            "2/2 [==============================] - 0s 6ms/step - loss: 11.8819 - mae: 11.8819\n",
            "Epoch 7/100\n",
            "2/2 [==============================] - 0s 5ms/step - loss: 11.1988 - mae: 11.1988\n",
            "Epoch 8/100\n",
            "2/2 [==============================] - 0s 5ms/step - loss: 11.0910 - mae: 11.0910\n",
            "Epoch 9/100\n",
            "2/2 [==============================] - 0s 5ms/step - loss: 40.4763 - mae: 40.4763\n",
            "Epoch 10/100\n",
            "2/2 [==============================] - 0s 5ms/step - loss: 27.8688 - mae: 27.8688\n",
            "Epoch 11/100\n",
            "2/2 [==============================] - 0s 5ms/step - loss: 10.2473 - mae: 10.2473\n",
            "Epoch 12/100\n",
            "2/2 [==============================] - 0s 4ms/step - loss: 25.2803 - mae: 25.2803\n",
            "Epoch 13/100\n",
            "2/2 [==============================] - 0s 4ms/step - loss: 16.9897 - mae: 16.9897\n",
            "Epoch 14/100\n",
            "2/2 [==============================] - 0s 6ms/step - loss: 25.9217 - mae: 25.9217\n",
            "Epoch 15/100\n",
            "2/2 [==============================] - 0s 5ms/step - loss: 17.9948 - mae: 17.9948\n",
            "Epoch 16/100\n",
            "2/2 [==============================] - 0s 6ms/step - loss: 7.3510 - mae: 7.3510\n",
            "Epoch 17/100\n",
            "2/2 [==============================] - 0s 5ms/step - loss: 10.8636 - mae: 10.8636\n",
            "Epoch 18/100\n",
            "2/2 [==============================] - 0s 4ms/step - loss: 19.5304 - mae: 19.5304\n",
            "Epoch 19/100\n",
            "2/2 [==============================] - 0s 6ms/step - loss: 10.3469 - mae: 10.3469\n",
            "Epoch 20/100\n",
            "2/2 [==============================] - 0s 4ms/step - loss: 17.6985 - mae: 17.6985\n",
            "Epoch 21/100\n",
            "2/2 [==============================] - 0s 9ms/step - loss: 15.8984 - mae: 15.8984\n",
            "Epoch 22/100\n",
            "2/2 [==============================] - 0s 15ms/step - loss: 14.1991 - mae: 14.1991\n",
            "Epoch 23/100\n",
            "2/2 [==============================] - 0s 4ms/step - loss: 8.7720 - mae: 8.7720\n",
            "Epoch 24/100\n",
            "2/2 [==============================] - 0s 4ms/step - loss: 11.0570 - mae: 11.0570\n",
            "Epoch 25/100\n",
            "2/2 [==============================] - 0s 15ms/step - loss: 12.6838 - mae: 12.6838\n",
            "Epoch 26/100\n",
            "2/2 [==============================] - 0s 8ms/step - loss: 26.1877 - mae: 26.1877\n",
            "Epoch 27/100\n",
            "2/2 [==============================] - 0s 7ms/step - loss: 11.7432 - mae: 11.7432\n",
            "Epoch 28/100\n",
            "2/2 [==============================] - 0s 4ms/step - loss: 22.8730 - mae: 22.8730\n",
            "Epoch 29/100\n",
            "2/2 [==============================] - 0s 5ms/step - loss: 9.2459 - mae: 9.2459\n",
            "Epoch 30/100\n",
            "2/2 [==============================] - 0s 4ms/step - loss: 29.2641 - mae: 29.2641\n",
            "Epoch 31/100\n",
            "2/2 [==============================] - 0s 7ms/step - loss: 53.0225 - mae: 53.0225\n",
            "Epoch 32/100\n",
            "2/2 [==============================] - 0s 3ms/step - loss: 11.9951 - mae: 11.9951\n",
            "Epoch 33/100\n",
            "2/2 [==============================] - 0s 3ms/step - loss: 15.6357 - mae: 15.6357\n",
            "Epoch 34/100\n",
            "2/2 [==============================] - 0s 4ms/step - loss: 12.6925 - mae: 12.6925\n",
            "Epoch 35/100\n",
            "2/2 [==============================] - 0s 7ms/step - loss: 9.2398 - mae: 9.2398\n",
            "Epoch 36/100\n",
            "2/2 [==============================] - 0s 6ms/step - loss: 16.6497 - mae: 16.6497\n",
            "Epoch 37/100\n",
            "2/2 [==============================] - 0s 4ms/step - loss: 11.0382 - mae: 11.0382\n",
            "Epoch 38/100\n",
            "2/2 [==============================] - 0s 4ms/step - loss: 18.1634 - mae: 18.1634\n",
            "Epoch 39/100\n",
            "2/2 [==============================] - 0s 4ms/step - loss: 19.1013 - mae: 19.1013\n",
            "Epoch 40/100\n",
            "2/2 [==============================] - 0s 4ms/step - loss: 20.4324 - mae: 20.4324\n",
            "Epoch 41/100\n",
            "2/2 [==============================] - 0s 9ms/step - loss: 14.9102 - mae: 14.9102\n",
            "Epoch 42/100\n",
            "2/2 [==============================] - 0s 5ms/step - loss: 12.2809 - mae: 12.2809\n",
            "Epoch 43/100\n",
            "2/2 [==============================] - 0s 7ms/step - loss: 10.7333 - mae: 10.7333\n",
            "Epoch 44/100\n",
            "2/2 [==============================] - 0s 4ms/step - loss: 23.0260 - mae: 23.0260\n",
            "Epoch 45/100\n",
            "2/2 [==============================] - 0s 4ms/step - loss: 10.3897 - mae: 10.3897\n",
            "Epoch 46/100\n",
            "2/2 [==============================] - 0s 4ms/step - loss: 11.7904 - mae: 11.7904\n",
            "Epoch 47/100\n",
            "2/2 [==============================] - 0s 5ms/step - loss: 9.6438 - mae: 9.6438\n",
            "Epoch 48/100\n",
            "2/2 [==============================] - 0s 5ms/step - loss: 17.2335 - mae: 17.2335\n",
            "Epoch 49/100\n",
            "2/2 [==============================] - 0s 6ms/step - loss: 9.5729 - mae: 9.5729\n",
            "Epoch 50/100\n",
            "2/2 [==============================] - 0s 5ms/step - loss: 13.8185 - mae: 13.8185\n",
            "Epoch 51/100\n",
            "2/2 [==============================] - 0s 6ms/step - loss: 11.5958 - mae: 11.5958\n",
            "Epoch 52/100\n",
            "2/2 [==============================] - 0s 4ms/step - loss: 30.5538 - mae: 30.5538\n",
            "Epoch 53/100\n",
            "2/2 [==============================] - 0s 4ms/step - loss: 14.3541 - mae: 14.3541\n",
            "Epoch 54/100\n",
            "2/2 [==============================] - 0s 7ms/step - loss: 23.9713 - mae: 23.9713\n",
            "Epoch 55/100\n",
            "2/2 [==============================] - 0s 9ms/step - loss: 23.1938 - mae: 23.1938\n",
            "Epoch 56/100\n",
            "2/2 [==============================] - 0s 5ms/step - loss: 10.8837 - mae: 10.8837\n",
            "Epoch 57/100\n",
            "2/2 [==============================] - 0s 4ms/step - loss: 12.7445 - mae: 12.7445\n",
            "Epoch 58/100\n",
            "2/2 [==============================] - 0s 4ms/step - loss: 9.5995 - mae: 9.5995\n",
            "Epoch 59/100\n",
            "2/2 [==============================] - 0s 7ms/step - loss: 12.5172 - mae: 12.5172\n",
            "Epoch 60/100\n",
            "2/2 [==============================] - 0s 4ms/step - loss: 12.3200 - mae: 12.3200\n",
            "Epoch 61/100\n",
            "2/2 [==============================] - 0s 4ms/step - loss: 17.4604 - mae: 17.4604\n",
            "Epoch 62/100\n",
            "2/2 [==============================] - 0s 4ms/step - loss: 10.6052 - mae: 10.6052\n",
            "Epoch 63/100\n",
            "2/2 [==============================] - 0s 8ms/step - loss: 10.4893 - mae: 10.4893\n",
            "Epoch 64/100\n",
            "2/2 [==============================] - 0s 4ms/step - loss: 24.8450 - mae: 24.8450\n",
            "Epoch 65/100\n",
            "2/2 [==============================] - 0s 8ms/step - loss: 10.6761 - mae: 10.6761\n",
            "Epoch 66/100\n",
            "2/2 [==============================] - 0s 8ms/step - loss: 21.7809 - mae: 21.7809\n",
            "Epoch 67/100\n",
            "2/2 [==============================] - 0s 4ms/step - loss: 10.7136 - mae: 10.7136\n",
            "Epoch 68/100\n",
            "2/2 [==============================] - 0s 4ms/step - loss: 10.6397 - mae: 10.6397\n",
            "Epoch 69/100\n",
            "2/2 [==============================] - 0s 4ms/step - loss: 22.6914 - mae: 22.6914\n",
            "Epoch 70/100\n",
            "2/2 [==============================] - 0s 4ms/step - loss: 9.3316 - mae: 9.3316\n",
            "Epoch 71/100\n",
            "2/2 [==============================] - 0s 5ms/step - loss: 15.4355 - mae: 15.4355\n",
            "Epoch 72/100\n",
            "2/2 [==============================] - 0s 4ms/step - loss: 6.7437 - mae: 6.7437\n",
            "Epoch 73/100\n",
            "2/2 [==============================] - 0s 5ms/step - loss: 11.6891 - mae: 11.6891\n",
            "Epoch 74/100\n",
            "2/2 [==============================] - 0s 4ms/step - loss: 24.0400 - mae: 24.0400\n",
            "Epoch 75/100\n",
            "2/2 [==============================] - 0s 5ms/step - loss: 9.5896 - mae: 9.5896\n",
            "Epoch 76/100\n",
            "2/2 [==============================] - 0s 4ms/step - loss: 12.4371 - mae: 12.4371\n",
            "Epoch 77/100\n",
            "2/2 [==============================] - 0s 4ms/step - loss: 16.6489 - mae: 16.6489\n",
            "Epoch 78/100\n",
            "2/2 [==============================] - 0s 4ms/step - loss: 9.0614 - mae: 9.0614\n",
            "Epoch 79/100\n",
            "2/2 [==============================] - 0s 5ms/step - loss: 23.9675 - mae: 23.9675\n",
            "Epoch 80/100\n",
            "2/2 [==============================] - 0s 5ms/step - loss: 26.7463 - mae: 26.7463\n",
            "Epoch 81/100\n",
            "2/2 [==============================] - 0s 5ms/step - loss: 11.6714 - mae: 11.6714\n",
            "Epoch 82/100\n",
            "2/2 [==============================] - 0s 5ms/step - loss: 12.0228 - mae: 12.0228\n",
            "Epoch 83/100\n",
            "2/2 [==============================] - 0s 5ms/step - loss: 17.4218 - mae: 17.4218\n",
            "Epoch 84/100\n",
            "2/2 [==============================] - 0s 4ms/step - loss: 7.2629 - mae: 7.2629\n",
            "Epoch 85/100\n",
            "2/2 [==============================] - 0s 4ms/step - loss: 14.9650 - mae: 14.9650\n",
            "Epoch 86/100\n",
            "2/2 [==============================] - 0s 9ms/step - loss: 15.2862 - mae: 15.2862\n",
            "Epoch 87/100\n",
            "2/2 [==============================] - 0s 4ms/step - loss: 19.1086 - mae: 19.1086\n",
            "Epoch 88/100\n",
            "2/2 [==============================] - 0s 4ms/step - loss: 29.8229 - mae: 29.8229\n",
            "Epoch 89/100\n",
            "2/2 [==============================] - 0s 5ms/step - loss: 10.1742 - mae: 10.1742\n",
            "Epoch 90/100\n",
            "2/2 [==============================] - 0s 4ms/step - loss: 21.5240 - mae: 21.5240\n",
            "Epoch 91/100\n",
            "2/2 [==============================] - 0s 5ms/step - loss: 10.5716 - mae: 10.5716\n",
            "Epoch 92/100\n",
            "2/2 [==============================] - 0s 4ms/step - loss: 18.3977 - mae: 18.3977\n",
            "Epoch 93/100\n",
            "2/2 [==============================] - 0s 7ms/step - loss: 7.4138 - mae: 7.4138\n",
            "Epoch 94/100\n",
            "2/2 [==============================] - 0s 5ms/step - loss: 17.7380 - mae: 17.7380\n",
            "Epoch 95/100\n",
            "2/2 [==============================] - 0s 8ms/step - loss: 11.1144 - mae: 11.1144\n",
            "Epoch 96/100\n",
            "2/2 [==============================] - 0s 7ms/step - loss: 19.4346 - mae: 19.4346\n",
            "Epoch 97/100\n",
            "2/2 [==============================] - 0s 5ms/step - loss: 12.1593 - mae: 12.1593\n",
            "Epoch 98/100\n",
            "2/2 [==============================] - 0s 5ms/step - loss: 11.5653 - mae: 11.5653\n",
            "Epoch 99/100\n",
            "2/2 [==============================] - 0s 6ms/step - loss: 13.8827 - mae: 13.8827\n",
            "Epoch 100/100\n",
            "2/2 [==============================] - 0s 6ms/step - loss: 20.2277 - mae: 20.2277\n"
          ],
          "name": "stdout"
        },
        {
          "output_type": "execute_result",
          "data": {
            "text/plain": [
              "<tensorflow.python.keras.callbacks.History at 0x7fb9a2572fd0>"
            ]
          },
          "metadata": {
            "tags": []
          },
          "execution_count": 59
        }
      ]
    },
    {
      "cell_type": "code",
      "metadata": {
        "colab": {
          "base_uri": "https://localhost:8080/",
          "height": 428
        },
        "id": "hhmFatVdOj_c",
        "outputId": "366a350b-7031-47f0-8576-9d9dd92482b3"
      },
      "source": [
        "# Faz e mostra as predições\n",
        "y_pred_2 = model_2.predict(X_teste)\n",
        "mostra_predicoes(predicoes=y_pred_2)"
      ],
      "execution_count": null,
      "outputs": [
        {
          "output_type": "display_data",
          "data": {
            "image/png": "[encoded data removed]",
            "text/plain": [
              "<Figure size 720x504 with 1 Axes>"
            ]
          },
          "metadata": {
            "tags": [],
            "needs_background": "light"
          }
        }
      ]
    },
    {
      "cell_type": "code",
      "metadata": {
        "colab": {
          "base_uri": "https://localhost:8080/"
        },
        "id": "POQgl_96PrZC",
        "outputId": "46ac7adb-ce70-437d-a929-36a94c35e0d1"
      },
      "source": [
        "# Calcular metodos de avaliação\n",
        "mae_2 = mae(y_teste, y_pred_2)\n",
        "mse_2 = mse(y_teste,y_pred_2)\n",
        "\n",
        "mae_2, mse_2"
      ],
      "execution_count": null,
      "outputs": [
        {
          "output_type": "execute_result",
          "data": {
            "text/plain": [
              "(<tf.Tensor: shape=(), dtype=float32, numpy=3.1969407>,\n",
              " <tf.Tensor: shape=(), dtype=float32, numpy=13.070143>)"
            ]
          },
          "metadata": {
            "tags": []
          },
          "execution_count": 61
        }
      ]
    },
    {
      "cell_type": "markdown",
      "metadata": {
        "id": "PvKikaNtQO3K"
      },
      "source": [
        "**Criando modelo 3**\n",
        "* Duas camadas, treinadas por 500 epochs."
      ]
    },
    {
      "cell_type": "code",
      "metadata": {
        "id": "rwlTx79YQQdx"
      },
      "source": [
        "# Set random seed\n",
        "tf.random.set_seed(42)\n",
        "\n",
        "# Criando modelo\n",
        "model_3 = tf.keras.Sequential([\n",
        "  tf.keras.layers.Dense(10),\n",
        "  tf.keras.layers.Dense(1)\n",
        "])\n",
        "\n",
        "# Compilar o modelo\n",
        "model_3.compile(loss=tf.keras.losses.mae,\n",
        "                optimizer=tf.keras.optimizers.SGD(),\n",
        "                metrics=[\"mae\"])\n",
        "\n",
        "# Preencher o modelo\n",
        "model_3.fit(X_treino,y_treino, epochs=500, verbose=1)"
      ],
      "execution_count": null,
      "outputs": []
    },
    {
      "cell_type": "code",
      "metadata": {
        "colab": {
          "base_uri": "https://localhost:8080/",
          "height": 428
        },
        "id": "QwmtdRAlQl4o",
        "outputId": "e386034c-c319-4782-c809-a1aca6bdb1d4"
      },
      "source": [
        "# Faz e mostra as predições\n",
        "y_pred_3 = model_3.predict(X_teste)\n",
        "mostra_predicoes(predicoes=y_pred_3)"
      ],
      "execution_count": null,
      "outputs": [
        {
          "output_type": "display_data",
          "data": {
            "image/png": "[encoded data removed]",
            "text/plain": [
              "<Figure size 720x504 with 1 Axes>"
            ]
          },
          "metadata": {
            "tags": [],
            "needs_background": "light"
          }
        }
      ]
    },
    {
      "cell_type": "code",
      "metadata": {
        "colab": {
          "base_uri": "https://localhost:8080/"
        },
        "id": "fzodw0r8Qvv3",
        "outputId": "dcfd0175-ebfb-4fd7-f0d6-6d6ae5415c5a"
      },
      "source": [
        "# Calcular metodos de avaliação\n",
        "mae_3 = mae(y_teste, y_pred_3)\n",
        "mse_3 = mse(y_teste,y_pred_3)\n",
        "\n",
        "mae_3, mse_3"
      ],
      "execution_count": null,
      "outputs": [
        {
          "output_type": "execute_result",
          "data": {
            "text/plain": [
              "(<tf.Tensor: shape=(), dtype=float32, numpy=68.713615>,\n",
              " <tf.Tensor: shape=(), dtype=float32, numpy=4808.0273>)"
            ]
          },
          "metadata": {
            "tags": []
          },
          "execution_count": 64
        }
      ]
    },
    {
      "cell_type": "markdown",
      "metadata": {
        "id": "2XKG-VI_VqKl"
      },
      "source": [
        "### Comparando os resultados dos nossos experimentos"
      ]
    },
    {
      "cell_type": "code",
      "metadata": {
        "colab": {
          "base_uri": "https://localhost:8080/",
          "height": 142
        },
        "id": "CQrtZX6fVtyb",
        "outputId": "e2ca5154-eb3e-43a5-89aa-8f216f40c1cc"
      },
      "source": [
        "# Vamos comparar os resultados entre nossos experimentos utilizando o pandas\n",
        "import pandas as pd\n",
        "\n",
        "resultados_modelos = [[\"model_1\", mae_1.numpy(), mse_1.numpy()],\n",
        "                      [\"model_2\", mae_2.numpy(), mse_2.numpy()],\n",
        "                      [\"model_3\", mae_3.numpy(), mse_3.numpy()]]   #Fazer primeiro sem \".numpy()\" e depois com\n",
        "\n",
        "resultados = pd.DataFrame(resultados_modelos, columns=[\"Modelo\", \"mae\", \"mse\"])\n",
        "resultados"
      ],
      "execution_count": null,
      "outputs": [
        {
          "output_type": "execute_result",
          "data": {
            "text/html": [
              "<div>\n",
              "<style scoped>\n",
              "    .dataframe tbody tr th:only-of-type {\n",
              "        vertical-align: middle;\n",
              "    }\n",
              "\n",
              "    .dataframe tbody tr th {\n",
              "        vertical-align: top;\n",
              "    }\n",
              "\n",
              "    .dataframe thead th {\n",
              "        text-align: right;\n",
              "    }\n",
              "</style>\n",
              "<table border=\"1\" class=\"dataframe\">\n",
              "  <thead>\n",
              "    <tr style=\"text-align: right;\">\n",
              "      <th></th>\n",
              "      <th>Modelo</th>\n",
              "      <th>mae</th>\n",
              "      <th>mse</th>\n",
              "    </tr>\n",
              "  </thead>\n",
              "  <tbody>\n",
              "    <tr>\n",
              "      <th>0</th>\n",
              "      <td>model_1</td>\n",
              "      <td>18.745327</td>\n",
              "      <td>353.573364</td>\n",
              "    </tr>\n",
              "    <tr>\n",
              "      <th>1</th>\n",
              "      <td>model_2</td>\n",
              "      <td>3.196941</td>\n",
              "      <td>13.070143</td>\n",
              "    </tr>\n",
              "    <tr>\n",
              "      <th>2</th>\n",
              "      <td>model_3</td>\n",
              "      <td>68.713615</td>\n",
              "      <td>4808.027344</td>\n",
              "    </tr>\n",
              "  </tbody>\n",
              "</table>\n",
              "</div>"
            ],
            "text/plain": [
              "    Modelo        mae          mse\n",
              "0  model_1  18.745327   353.573364\n",
              "1  model_2   3.196941    13.070143\n",
              "2  model_3  68.713615  4808.027344"
            ]
          },
          "metadata": {
            "tags": []
          },
          "execution_count": 65
        }
      ]
    },
    {
      "cell_type": "markdown",
      "metadata": {
        "id": "ItaURzCkWwxH"
      },
      "source": [
        "Pelo visto, o `model_2` teve a melhor performance..."
      ]
    },
    {
      "cell_type": "code",
      "metadata": {
        "colab": {
          "base_uri": "https://localhost:8080/"
        },
        "id": "A46NEBwsWo6H",
        "outputId": "1949b7cb-7e7f-4f23-ecc4-78ee25736d96"
      },
      "source": [
        "model_2.summary()"
      ],
      "execution_count": null,
      "outputs": [
        {
          "output_type": "stream",
          "text": [
            "Model: \"sequential_8\"\n",
            "_________________________________________________________________\n",
            "Layer (type)                 Output Shape              Param #   \n",
            "=================================================================\n",
            "dense_11 (Dense)             (None, 10)                20        \n",
            "_________________________________________________________________\n",
            "dense_12 (Dense)             (None, 1)                 11        \n",
            "=================================================================\n",
            "Total params: 31\n",
            "Trainable params: 31\n",
            "Non-trainable params: 0\n",
            "_________________________________________________________________\n"
          ],
          "name": "stdout"
        }
      ]
    },
    {
      "cell_type": "markdown",
      "metadata": {
        "id": "Hj05GqPxW_g0"
      },
      "source": [
        "### Rastrear os resultados dos experimentos\n",
        "\n",
        "Uma das melhores práticas em machine learning é a de acompanhar os resultados dos experimentos realizados. \n",
        "\n",
        "E ao fazer isso, pode ser uma ativiade tediosa caso você esteja realizando muitos experimentos. \n",
        "\n",
        "Mas, por sorte nossa, existem ferramenta que nos ajudam nisto!\n",
        "\n",
        "* **TensorBoard** - Um componente da biblioteca TensorFlow para ajudar a acompanhar os experimentos.\n",
        "\n",
        "* **Weights & Biases** - uma ferramenta para acompanhar vários tipos de experimentos em machine learning (plugins do TensorBoard)."
      ]
    },
    {
      "cell_type": "markdown",
      "metadata": {
        "id": "cocl5YXIXBDJ"
      },
      "source": [
        "### Salvando nossos modelos\n",
        "\n",
        "Salvar nossos modelos nos permite utiliza-los fora do Google Collab (ou qualquer lugar que tenham sido treinados).\n",
        "\n",
        "Existem dois principais formatos que podemos usar para nossos modelos:\n",
        "\n",
        "1. O formato SavedModel (default)\n",
        "2. O formato HDF5 (Pesquisar google)"
      ]
    },
    {
      "cell_type": "code",
      "metadata": {
        "colab": {
          "base_uri": "https://localhost:8080/"
        },
        "id": "ak6wzXEFYjDB",
        "outputId": "d2c32e18-c0ce-49d8-f7f7-1bd19836a231"
      },
      "source": [
        "# Salvando o modelo utilizando o formato SavedModel\n",
        "model_2.save(\"melhor_modelo_SavedModel\")"
      ],
      "execution_count": null,
      "outputs": [
        {
          "output_type": "stream",
          "text": [
            "INFO:tensorflow:Assets written to: melhor_modelo_SavedModel/assets\n"
          ],
          "name": "stdout"
        }
      ]
    },
    {
      "cell_type": "code",
      "metadata": {
        "id": "jk_G4RUXZ_Pt"
      },
      "source": [
        "# Salvando o modelo utilizando o formato HDF5\n",
        "model_2.save(\"melhor_modelo.h5\")"
      ],
      "execution_count": null,
      "outputs": []
    },
    {
      "cell_type": "markdown",
      "metadata": {
        "id": "2NaMCqYaaZ7y"
      },
      "source": [
        "## Carregando um modelo salvo"
      ]
    },
    {
      "cell_type": "code",
      "metadata": {
        "colab": {
          "base_uri": "https://localhost:8080/"
        },
        "id": "uXWhU5p6aev7",
        "outputId": "96743e33-3f7d-467e-fab9-e9735712ec75"
      },
      "source": [
        "# Carregando um modelo no formato SavedModel\n",
        "saved_model = tf.keras.models.load_model(\"/content/melhor_modelo_SavedModel\")\n",
        "saved_model.summary()"
      ],
      "execution_count": null,
      "outputs": [
        {
          "output_type": "stream",
          "text": [
            "Model: \"sequential_8\"\n",
            "_________________________________________________________________\n",
            "Layer (type)                 Output Shape              Param #   \n",
            "=================================================================\n",
            "dense_11 (Dense)             (None, 10)                20        \n",
            "_________________________________________________________________\n",
            "dense_12 (Dense)             (None, 1)                 11        \n",
            "=================================================================\n",
            "Total params: 31\n",
            "Trainable params: 31\n",
            "Non-trainable params: 0\n",
            "_________________________________________________________________\n"
          ],
          "name": "stdout"
        }
      ]
    },
    {
      "cell_type": "code",
      "metadata": {
        "colab": {
          "base_uri": "https://localhost:8080/"
        },
        "id": "oFLOqUNea_p1",
        "outputId": "ca9401ae-e7f9-4b54-fae7-1c61025e2d8c"
      },
      "source": [
        "# Comparar as predições do modelo carregado e do existente para verificar se são os mesmos\n",
        "model_2_pred = model_2.predict(X_teste)\n",
        "saved_model_pred = saved_model.predict(X_teste)\n",
        "\n",
        "model_2_pred == saved_model_pred"
      ],
      "execution_count": null,
      "outputs": [
        {
          "output_type": "execute_result",
          "data": {
            "text/plain": [
              "array([[ True],\n",
              "       [ True],\n",
              "       [ True],\n",
              "       [ True],\n",
              "       [ True],\n",
              "       [ True],\n",
              "       [ True],\n",
              "       [ True],\n",
              "       [ True],\n",
              "       [ True]])"
            ]
          },
          "metadata": {
            "tags": []
          },
          "execution_count": 70
        }
      ]
    },
    {
      "cell_type": "markdown",
      "metadata": {
        "id": "pqsqgiOMdA7x"
      },
      "source": [
        "### Fazer download de um modelo ou qualquer outro arquivo do Google Colab\n",
        "\n",
        "Se você quiser fazer o download dos arquivos do Google Colab, você precisa:\n",
        "\n",
        "1. Você precisa abrir a tab \"Arquivos\" e dar um clique direito no arquivo que você quer e logo após clicar em \"download\".\n",
        "\n",
        "2. Utilizar em código (veja a célula abaixo)\n",
        "\n",
        "3. Salvar diretamente no Google Drive (veja a segunda célula abaixo)"
      ]
    },
    {
      "cell_type": "code",
      "metadata": {
        "id": "Bou_uPAYdFQx",
        "colab": {
          "base_uri": "https://localhost:8080/",
          "height": 17
        },
        "outputId": "f302854f-b636-4534-e6c3-57d17f605f7a"
      },
      "source": [
        "# Fazer o download de um arquivo do Google Colab\n",
        "from google.colab import files\n",
        "files.download(\"/content/melhor_modelo.h5\")"
      ],
      "execution_count": null,
      "outputs": [
        {
          "output_type": "display_data",
          "data": {
            "application/javascript": [
              "\n",
              "    async function download(id, filename, size) {\n",
              "      if (!google.colab.kernel.accessAllowed) {\n",
              "        return;\n",
              "      }\n",
              "      const div = document.createElement('div');\n",
              "      const label = document.createElement('label');\n",
              "      label.textContent = `Downloading \"${filename}\": `;\n",
              "      div.appendChild(label);\n",
              "      const progress = document.createElement('progress');\n",
              "      progress.max = size;\n",
              "      div.appendChild(progress);\n",
              "      document.body.appendChild(div);\n",
              "\n",
              "      const buffers = [];\n",
              "      let downloaded = 0;\n",
              "\n",
              "      const channel = await google.colab.kernel.comms.open(id);\n",
              "      // Send a message to notify the kernel that we're ready.\n",
              "      channel.send({})\n",
              "\n",
              "      for await (const message of channel.messages) {\n",
              "        // Send a message to notify the kernel that we're ready.\n",
              "        channel.send({})\n",
              "        if (message.buffers) {\n",
              "          for (const buffer of message.buffers) {\n",
              "            buffers.push(buffer);\n",
              "            downloaded += buffer.byteLength;\n",
              "            progress.value = downloaded;\n",
              "          }\n",
              "        }\n",
              "      }\n",
              "      const blob = new Blob(buffers, {type: 'application/binary'});\n",
              "      const a = document.createElement('a');\n",
              "      a.href = window.URL.createObjectURL(blob);\n",
              "      a.download = filename;\n",
              "      div.appendChild(a);\n",
              "      a.click();\n",
              "      div.remove();\n",
              "    }\n",
              "  "
            ],
            "text/plain": [
              "<IPython.core.display.Javascript object>"
            ]
          },
          "metadata": {
            "tags": []
          }
        },
        {
          "output_type": "display_data",
          "data": {
            "application/javascript": [
              "download(\"download_ced0a8c4-90c0-40e6-bafa-f15186846836\", \"melhor_modelo.h5\", 17040)"
            ],
            "text/plain": [
              "<IPython.core.display.Javascript object>"
            ]
          },
          "metadata": {
            "tags": []
          }
        }
      ]
    },
    {
      "cell_type": "code",
      "metadata": {
        "id": "7GpPVN6leD6b"
      },
      "source": [
        "# Salvar um arquivo do Google Colab no Google Drive (requer que você monte o google drive)\n",
        "!cp /content/melhor_modelo.h5 /content/drive/MyDrive"
      ],
      "execution_count": null,
      "outputs": []
    },
    {
      "cell_type": "code",
      "metadata": {
        "id": "psEywJn3elBP",
        "colab": {
          "base_uri": "https://localhost:8080/"
        },
        "outputId": "a7c686dc-deb4-4b86-f7fa-5a9496b623ed"
      },
      "source": [
        "!ls /content/drive/MyDrive"
      ],
      "execution_count": null,
      "outputs": [
        {
          "output_type": "stream",
          "text": [
            
          ],
          "name": "stdout"
        }
      ]
    }
  ]
}
